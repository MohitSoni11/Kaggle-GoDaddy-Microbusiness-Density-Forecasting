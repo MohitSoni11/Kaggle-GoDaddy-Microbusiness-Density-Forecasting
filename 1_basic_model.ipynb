{
  "cells": [
    {
      "attachments": {},
      "cell_type": "markdown",
      "metadata": {},
      "source": [
        "# <center><div style=\"font-family: sans-serif; border-radius : 10px; background-color: #000000; color: #00DDDE; padding: 12px; line-height: 1;\">Imports</div></center>"
      ]
    },
    {
      "cell_type": "code",
      "execution_count": 1,
      "metadata": {
        "id": "5qjs3n93sgPW"
      },
      "outputs": [],
      "source": [
        "# Data manipulation\n",
        "import numpy as np\n",
        "import pandas as pd\n",
        "\n",
        "# Plotting\n",
        "import matplotlib.pyplot as plt\n",
        "import seaborn as sns\n",
        "\n",
        "# Machine Learning supplements\n",
        "from sklearn.model_selection import train_test_split\n",
        "\n",
        "# Models\n",
        "from sklearn.linear_model import LinearRegression\n",
        "from sklearn.ensemble import RandomForestRegressor\n",
        "import xgboost as xgb\n",
        "from sklearn.svm import SVR"
      ]
    },
    {
      "attachments": {},
      "cell_type": "markdown",
      "metadata": {},
      "source": [
        "# <center><div style=\"font-family: sans-serif; border-radius : 10px; background-color: #000000; color: #00DDDE; padding: 12px; line-height: 1;\">Getting train.csv</div></center>"
      ]
    },
    {
      "cell_type": "code",
      "execution_count": 2,
      "metadata": {
        "id": "kqdJ6L65sgPY",
        "outputId": "10176235-c68b-41d3-de17-339da21693d9"
      },
      "outputs": [
        {
          "data": {
            "text/html": [
              "<div>\n",
              "<style scoped>\n",
              "    .dataframe tbody tr th:only-of-type {\n",
              "        vertical-align: middle;\n",
              "    }\n",
              "\n",
              "    .dataframe tbody tr th {\n",
              "        vertical-align: top;\n",
              "    }\n",
              "\n",
              "    .dataframe thead th {\n",
              "        text-align: right;\n",
              "    }\n",
              "</style>\n",
              "<table border=\"1\" class=\"dataframe\">\n",
              "  <thead>\n",
              "    <tr style=\"text-align: right;\">\n",
              "      <th></th>\n",
              "      <th>row_id</th>\n",
              "      <th>cfips</th>\n",
              "      <th>county</th>\n",
              "      <th>state</th>\n",
              "      <th>first_day_of_month</th>\n",
              "      <th>microbusiness_density</th>\n",
              "      <th>active</th>\n",
              "    </tr>\n",
              "  </thead>\n",
              "  <tbody>\n",
              "    <tr>\n",
              "      <th>0</th>\n",
              "      <td>1001_2019-08-01</td>\n",
              "      <td>1001</td>\n",
              "      <td>Autauga County</td>\n",
              "      <td>Alabama</td>\n",
              "      <td>2019-08-01</td>\n",
              "      <td>3.007682</td>\n",
              "      <td>1249</td>\n",
              "    </tr>\n",
              "    <tr>\n",
              "      <th>1</th>\n",
              "      <td>1001_2019-09-01</td>\n",
              "      <td>1001</td>\n",
              "      <td>Autauga County</td>\n",
              "      <td>Alabama</td>\n",
              "      <td>2019-09-01</td>\n",
              "      <td>2.884870</td>\n",
              "      <td>1198</td>\n",
              "    </tr>\n",
              "    <tr>\n",
              "      <th>2</th>\n",
              "      <td>1001_2019-10-01</td>\n",
              "      <td>1001</td>\n",
              "      <td>Autauga County</td>\n",
              "      <td>Alabama</td>\n",
              "      <td>2019-10-01</td>\n",
              "      <td>3.055843</td>\n",
              "      <td>1269</td>\n",
              "    </tr>\n",
              "    <tr>\n",
              "      <th>3</th>\n",
              "      <td>1001_2019-11-01</td>\n",
              "      <td>1001</td>\n",
              "      <td>Autauga County</td>\n",
              "      <td>Alabama</td>\n",
              "      <td>2019-11-01</td>\n",
              "      <td>2.993233</td>\n",
              "      <td>1243</td>\n",
              "    </tr>\n",
              "    <tr>\n",
              "      <th>4</th>\n",
              "      <td>1001_2019-12-01</td>\n",
              "      <td>1001</td>\n",
              "      <td>Autauga County</td>\n",
              "      <td>Alabama</td>\n",
              "      <td>2019-12-01</td>\n",
              "      <td>2.993233</td>\n",
              "      <td>1243</td>\n",
              "    </tr>\n",
              "  </tbody>\n",
              "</table>\n",
              "</div>"
            ],
            "text/plain": [
              "            row_id  cfips          county    state first_day_of_month  \\\n",
              "0  1001_2019-08-01   1001  Autauga County  Alabama         2019-08-01   \n",
              "1  1001_2019-09-01   1001  Autauga County  Alabama         2019-09-01   \n",
              "2  1001_2019-10-01   1001  Autauga County  Alabama         2019-10-01   \n",
              "3  1001_2019-11-01   1001  Autauga County  Alabama         2019-11-01   \n",
              "4  1001_2019-12-01   1001  Autauga County  Alabama         2019-12-01   \n",
              "\n",
              "   microbusiness_density  active  \n",
              "0               3.007682    1249  \n",
              "1               2.884870    1198  \n",
              "2               3.055843    1269  \n",
              "3               2.993233    1243  \n",
              "4               2.993233    1243  "
            ]
          },
          "execution_count": 2,
          "metadata": {},
          "output_type": "execute_result"
        }
      ],
      "source": [
        "# Importing the training data and parsing the time column as datatime object\n",
        "raw = pd.read_csv('data/train.csv', parse_dates=['first_day_of_month'])\n",
        "raw.head()"
      ]
    },
    {
      "attachments": {},
      "cell_type": "markdown",
      "metadata": {},
      "source": [
        "# <center><div style=\"font-family: sans-serif; border-radius : 10px; background-color: #000000; color: #00DDDE; padding: 12px; line-height: 1;\">Approach 1 - Minimal Data Manipulation & Basic Modelling</div></center>"
      ]
    },
    {
      "attachments": {},
      "cell_type": "markdown",
      "metadata": {},
      "source": [
        "# Data Manipulation\n",
        "1. Feature selection\n",
        "2. Fill in missing values\n",
        "3. Convert categorical columns to numerical\n",
        "4. Splitting data"
      ]
    },
    {
      "attachments": {},
      "cell_type": "markdown",
      "metadata": {},
      "source": [
        "### 1. Feature Selection\n",
        "The initial features in the dataset and their importance:\n",
        "* `row_id` - **redundant**\n",
        "  * A string combining the `cfips` and `first_day_of_month` features\n",
        "* `cfips` - **relevant**\n",
        "  * Integer identifying the county & state from which the `microbusiness_density` is derived\n",
        "* `county` - **redundant**\n",
        "  * String identifying the county (not needed because `cfips` already does that)\n",
        "* `state` - **redundant**\n",
        "  * String identifying the state (not needed because `cfips` already does that)\n",
        "* `first_day_of_month` - **relevant**\n",
        "  * Date object representing when the data was collected\n",
        "* `microbusiness_density` - **target**\n",
        "  * microbusinesses per 100 people over the age of 18 in the given county\n",
        "* `active` - **relevant but unusable currently**\n",
        "  * The raw count of the microbusinesses in the county\n",
        "  * However, this is not provided in the test set (we'll need to find out own data for test set and then we can use this on training)"
      ]
    },
    {
      "cell_type": "code",
      "execution_count": 3,
      "metadata": {},
      "outputs": [],
      "source": [
        "# Converting the date column into separate year and month columns for ease of access\n",
        "raw['year'] = raw['first_day_of_month'].dt.year\n",
        "raw['month'] = raw['first_day_of_month'].dt.month\n",
        "raw.drop('first_day_of_month', axis=1, inplace=True)\n",
        "\n",
        "# Removing row_id, county, and state because those are redundant columns\n",
        "raw.drop(['row_id', 'county', 'state'], axis=1, inplace=True)\n",
        "\n",
        "# Removing active because we cannot currently use it\n",
        "raw.drop('active', axis=1, inplace=True)"
      ]
    },
    {
      "cell_type": "code",
      "execution_count": 4,
      "metadata": {
        "id": "NeBqBG32sgPd",
        "outputId": "bc241fbe-de9a-4f51-fa7b-712a29587664"
      },
      "outputs": [
        {
          "data": {
            "text/html": [
              "<div>\n",
              "<style scoped>\n",
              "    .dataframe tbody tr th:only-of-type {\n",
              "        vertical-align: middle;\n",
              "    }\n",
              "\n",
              "    .dataframe tbody tr th {\n",
              "        vertical-align: top;\n",
              "    }\n",
              "\n",
              "    .dataframe thead th {\n",
              "        text-align: right;\n",
              "    }\n",
              "</style>\n",
              "<table border=\"1\" class=\"dataframe\">\n",
              "  <thead>\n",
              "    <tr style=\"text-align: right;\">\n",
              "      <th></th>\n",
              "      <th>cfips</th>\n",
              "      <th>microbusiness_density</th>\n",
              "      <th>year</th>\n",
              "      <th>month</th>\n",
              "    </tr>\n",
              "  </thead>\n",
              "  <tbody>\n",
              "    <tr>\n",
              "      <th>0</th>\n",
              "      <td>1001</td>\n",
              "      <td>3.007682</td>\n",
              "      <td>2019</td>\n",
              "      <td>8</td>\n",
              "    </tr>\n",
              "    <tr>\n",
              "      <th>1</th>\n",
              "      <td>1001</td>\n",
              "      <td>2.884870</td>\n",
              "      <td>2019</td>\n",
              "      <td>9</td>\n",
              "    </tr>\n",
              "    <tr>\n",
              "      <th>2</th>\n",
              "      <td>1001</td>\n",
              "      <td>3.055843</td>\n",
              "      <td>2019</td>\n",
              "      <td>10</td>\n",
              "    </tr>\n",
              "    <tr>\n",
              "      <th>3</th>\n",
              "      <td>1001</td>\n",
              "      <td>2.993233</td>\n",
              "      <td>2019</td>\n",
              "      <td>11</td>\n",
              "    </tr>\n",
              "    <tr>\n",
              "      <th>4</th>\n",
              "      <td>1001</td>\n",
              "      <td>2.993233</td>\n",
              "      <td>2019</td>\n",
              "      <td>12</td>\n",
              "    </tr>\n",
              "  </tbody>\n",
              "</table>\n",
              "</div>"
            ],
            "text/plain": [
              "   cfips  microbusiness_density  year  month\n",
              "0   1001               3.007682  2019      8\n",
              "1   1001               2.884870  2019      9\n",
              "2   1001               3.055843  2019     10\n",
              "3   1001               2.993233  2019     11\n",
              "4   1001               2.993233  2019     12"
            ]
          },
          "execution_count": 4,
          "metadata": {},
          "output_type": "execute_result"
        }
      ],
      "source": [
        "raw.head()"
      ]
    },
    {
      "attachments": {},
      "cell_type": "markdown",
      "metadata": {},
      "source": [
        "### 2 & 3. Fill in Missing Values & Convert Categorical Columns to Numerical"
      ]
    },
    {
      "cell_type": "code",
      "execution_count": 5,
      "metadata": {},
      "outputs": [
        {
          "name": "stdout",
          "output_type": "stream",
          "text": [
            "<class 'pandas.core.frame.DataFrame'>\n",
            "RangeIndex: 122265 entries, 0 to 122264\n",
            "Data columns (total 4 columns):\n",
            " #   Column                 Non-Null Count   Dtype  \n",
            "---  ------                 --------------   -----  \n",
            " 0   cfips                  122265 non-null  int64  \n",
            " 1   microbusiness_density  122265 non-null  float64\n",
            " 2   year                   122265 non-null  int64  \n",
            " 3   month                  122265 non-null  int64  \n",
            "dtypes: float64(1), int64(3)\n",
            "memory usage: 3.7 MB\n"
          ]
        }
      ],
      "source": [
        "raw.info()"
      ]
    },
    {
      "attachments": {},
      "cell_type": "markdown",
      "metadata": {},
      "source": [
        "As we can see above, there are <u>no missing values</u>. Additionally, every feature is <u>already numerical</u>."
      ]
    },
    {
      "attachments": {},
      "cell_type": "markdown",
      "metadata": {},
      "source": [
        "### 4. Splitting Data\n",
        "\n",
        "Since we want to build a forecasting model, we cannot merely split the data into a training and testing set randomly. Instead, to evaluate a model on its forecasting ability, we need to <u>train it on the first 80% of the dates</u> (for each county) and <u>validate it on the last 20% of the dates</u> (for each county) that are in our training set."
      ]
    },
    {
      "cell_type": "code",
      "execution_count": 6,
      "metadata": {},
      "outputs": [],
      "source": [
        "# Making our training set until Feb 2022 from raw data -- around 80%\n",
        "training_set = raw[raw['year'] < 2022].append(raw[(raw['year'] == 2022) & (raw['month'] <= 2)])\n",
        "X_train = training_set.drop('microbusiness_density', axis=1)\n",
        "y_train = training_set['microbusiness_density']\n",
        "\n",
        "# Resetting index for plotting later\n",
        "X_train.index = np.arange(len(X_train))\n",
        "y_train.index = np.arange(len(y_train))\n",
        "\n",
        "# Making our validation set after Feb 2022 to end (Oct 2022) -- around 20%\n",
        "validation_set = raw[(raw['year'] == 2022) & (raw['month'] > 2)]\n",
        "X_val = validation_set.drop('microbusiness_density', axis=1)\n",
        "y_val = validation_set['microbusiness_density']\n",
        "\n",
        "# Resetting index for plotting later\n",
        "X_val.index = np.arange(len(X_val))\n",
        "y_val.index = np.arange(len(y_val))"
      ]
    },
    {
      "cell_type": "code",
      "execution_count": 7,
      "metadata": {},
      "outputs": [
        {
          "data": {
            "text/html": [
              "<div>\n",
              "<style scoped>\n",
              "    .dataframe tbody tr th:only-of-type {\n",
              "        vertical-align: middle;\n",
              "    }\n",
              "\n",
              "    .dataframe tbody tr th {\n",
              "        vertical-align: top;\n",
              "    }\n",
              "\n",
              "    .dataframe thead th {\n",
              "        text-align: right;\n",
              "    }\n",
              "</style>\n",
              "<table border=\"1\" class=\"dataframe\">\n",
              "  <thead>\n",
              "    <tr style=\"text-align: right;\">\n",
              "      <th></th>\n",
              "      <th>cfips</th>\n",
              "      <th>year</th>\n",
              "      <th>month</th>\n",
              "    </tr>\n",
              "  </thead>\n",
              "  <tbody>\n",
              "    <tr>\n",
              "      <th>97180</th>\n",
              "      <td>56041</td>\n",
              "      <td>2022</td>\n",
              "      <td>2</td>\n",
              "    </tr>\n",
              "    <tr>\n",
              "      <th>97181</th>\n",
              "      <td>56043</td>\n",
              "      <td>2022</td>\n",
              "      <td>1</td>\n",
              "    </tr>\n",
              "    <tr>\n",
              "      <th>97182</th>\n",
              "      <td>56043</td>\n",
              "      <td>2022</td>\n",
              "      <td>2</td>\n",
              "    </tr>\n",
              "    <tr>\n",
              "      <th>97183</th>\n",
              "      <td>56045</td>\n",
              "      <td>2022</td>\n",
              "      <td>1</td>\n",
              "    </tr>\n",
              "    <tr>\n",
              "      <th>97184</th>\n",
              "      <td>56045</td>\n",
              "      <td>2022</td>\n",
              "      <td>2</td>\n",
              "    </tr>\n",
              "  </tbody>\n",
              "</table>\n",
              "</div>"
            ],
            "text/plain": [
              "       cfips  year  month\n",
              "97180  56041  2022      2\n",
              "97181  56043  2022      1\n",
              "97182  56043  2022      2\n",
              "97183  56045  2022      1\n",
              "97184  56045  2022      2"
            ]
          },
          "execution_count": 7,
          "metadata": {},
          "output_type": "execute_result"
        }
      ],
      "source": [
        "X_train.tail()"
      ]
    },
    {
      "cell_type": "code",
      "execution_count": 8,
      "metadata": {},
      "outputs": [
        {
          "data": {
            "text/html": [
              "<div>\n",
              "<style scoped>\n",
              "    .dataframe tbody tr th:only-of-type {\n",
              "        vertical-align: middle;\n",
              "    }\n",
              "\n",
              "    .dataframe tbody tr th {\n",
              "        vertical-align: top;\n",
              "    }\n",
              "\n",
              "    .dataframe thead th {\n",
              "        text-align: right;\n",
              "    }\n",
              "</style>\n",
              "<table border=\"1\" class=\"dataframe\">\n",
              "  <thead>\n",
              "    <tr style=\"text-align: right;\">\n",
              "      <th></th>\n",
              "      <th>cfips</th>\n",
              "      <th>year</th>\n",
              "      <th>month</th>\n",
              "    </tr>\n",
              "  </thead>\n",
              "  <tbody>\n",
              "    <tr>\n",
              "      <th>0</th>\n",
              "      <td>1001</td>\n",
              "      <td>2022</td>\n",
              "      <td>3</td>\n",
              "    </tr>\n",
              "    <tr>\n",
              "      <th>1</th>\n",
              "      <td>1001</td>\n",
              "      <td>2022</td>\n",
              "      <td>4</td>\n",
              "    </tr>\n",
              "    <tr>\n",
              "      <th>2</th>\n",
              "      <td>1001</td>\n",
              "      <td>2022</td>\n",
              "      <td>5</td>\n",
              "    </tr>\n",
              "    <tr>\n",
              "      <th>3</th>\n",
              "      <td>1001</td>\n",
              "      <td>2022</td>\n",
              "      <td>6</td>\n",
              "    </tr>\n",
              "    <tr>\n",
              "      <th>4</th>\n",
              "      <td>1001</td>\n",
              "      <td>2022</td>\n",
              "      <td>7</td>\n",
              "    </tr>\n",
              "  </tbody>\n",
              "</table>\n",
              "</div>"
            ],
            "text/plain": [
              "   cfips  year  month\n",
              "0   1001  2022      3\n",
              "1   1001  2022      4\n",
              "2   1001  2022      5\n",
              "3   1001  2022      6\n",
              "4   1001  2022      7"
            ]
          },
          "execution_count": 8,
          "metadata": {},
          "output_type": "execute_result"
        }
      ],
      "source": [
        "X_val.head()"
      ]
    },
    {
      "cell_type": "code",
      "execution_count": 9,
      "metadata": {},
      "outputs": [
        {
          "name": "stdout",
          "output_type": "stream",
          "text": [
            "X_train shape: (97185, 3)\n",
            "y_train shape: (97185,)\n",
            "X_val shape: (25080, 3)\n",
            "y_val shape: (25080,)\n",
            "\n",
            "Train Ratio: 0.79\n",
            "Validation Ratio: 0.21\n"
          ]
        }
      ],
      "source": [
        "print(f'X_train shape: {X_train.shape}\\ny_train shape: {y_train.shape}\\nX_val shape: {X_val.shape}\\ny_val shape: {y_val.shape}\\n')\n",
        "\n",
        "train_percent = len(y_train) / len(raw)\n",
        "val_percent = len(y_val) / len(raw)\n",
        "print(f'Train Ratio: {train_percent:.2f}')\n",
        "print(f'Validation Ratio: {val_percent:.2f}')"
      ]
    },
    {
      "attachments": {},
      "cell_type": "markdown",
      "metadata": {
        "id": "j-XGgF2BsgPg"
      },
      "source": [
        "# Training\n",
        "\n",
        "We are going to be comparing several different models against each other for this problem. To make this more efficient, we have stored all the models in a dictionary so we can train them together and plot their results alongside each other."
      ]
    },
    {
      "cell_type": "code",
      "execution_count": 10,
      "metadata": {
        "id": "UiYER_QosgPg"
      },
      "outputs": [],
      "source": [
        "model_dict = {'LinearRegression': LinearRegression(),\n",
        "              'RandomForestRegressor': RandomForestRegressor(), \n",
        "              'XGBoostRegressor': xgb.XGBRegressor()}"
      ]
    },
    {
      "cell_type": "code",
      "execution_count": 11,
      "metadata": {
        "id": "kTiJw8wYsgPh"
      },
      "outputs": [],
      "source": [
        "def training(model_dict, X_train, y_train):\n",
        "  '''\n",
        "  Trains all the models in `model_dict` on `X_train` and `y_train` and returns\n",
        "  a dictionary of the {model's names: trained models}.\n",
        "  '''\n",
        "  for model_name, model_list in model_dict.items():\n",
        "    print(f'Training {model_name}...')\n",
        "    model_list.fit(X_train, y_train)\n",
        "  \n",
        "  return model_dict"
      ]
    },
    {
      "cell_type": "code",
      "execution_count": 12,
      "metadata": {
        "id": "AbohhrWrsgPh",
        "outputId": "e6529428-8ad0-4422-d3f2-2f5d5238a604"
      },
      "outputs": [
        {
          "name": "stdout",
          "output_type": "stream",
          "text": [
            "Training LinearRegression...\n",
            "Training RandomForestRegressor...\n",
            "Training XGBoostRegressor...\n"
          ]
        }
      ],
      "source": [
        "trained_model_dict = training(model_dict, X_train, y_train)"
      ]
    },
    {
      "cell_type": "code",
      "execution_count": 13,
      "metadata": {
        "id": "6TpnThJLsgPi",
        "outputId": "af174663-57a8-4e02-8bc4-b9b546d30218"
      },
      "outputs": [
        {
          "data": {
            "text/plain": [
              "{'LinearRegression': LinearRegression(),\n",
              " 'RandomForestRegressor': RandomForestRegressor(),\n",
              " 'XGBoostRegressor': XGBRegressor(base_score=0.5, booster='gbtree', callbacks=None,\n",
              "              colsample_bylevel=1, colsample_bynode=1, colsample_bytree=1,\n",
              "              early_stopping_rounds=None, enable_categorical=False,\n",
              "              eval_metric=None, feature_types=None, gamma=0, gpu_id=-1,\n",
              "              grow_policy='depthwise', importance_type=None,\n",
              "              interaction_constraints='', learning_rate=0.300000012, max_bin=256,\n",
              "              max_cat_threshold=64, max_cat_to_onehot=4, max_delta_step=0,\n",
              "              max_depth=6, max_leaves=0, min_child_weight=1, missing=nan,\n",
              "              monotone_constraints='()', n_estimators=100, n_jobs=0,\n",
              "              num_parallel_tree=1, predictor='auto', random_state=0, ...)}"
            ]
          },
          "execution_count": 13,
          "metadata": {},
          "output_type": "execute_result"
        }
      ],
      "source": [
        "trained_model_dict"
      ]
    },
    {
      "attachments": {},
      "cell_type": "markdown",
      "metadata": {
        "id": "ndyaxFe0sgPi"
      },
      "source": [
        "# Evaluation\n",
        "\n",
        "$$SMAPE = \\frac{1}{n} * \\sum^{n}_{i=1}{\\frac{2 * |P_i - A_i|}{(|A_i| + |P_i|)}}$$ \n",
        "where $P$ = predicted value and $A$ = actual value\n"
      ]
    },
    {
      "cell_type": "code",
      "execution_count": 14,
      "metadata": {
        "id": "GbfMV0pPsgPi"
      },
      "outputs": [],
      "source": [
        "def SMAPE(actual, pred):\n",
        "  '''\n",
        "  Calculates and returns the SMAPE (Symmetrics Mean Absolute Percentage Error) evaluation \n",
        "  metric based on the actual values (`actual`) and predicted values (`pred`).\n",
        "  '''\n",
        "  numerator = np.abs(pred - actual) * 2\n",
        "  denominator = np.abs(actual) + np.abs(pred)\n",
        "  return np.mean(numerator / denominator)"
      ]
    },
    {
      "cell_type": "code",
      "execution_count": 15,
      "metadata": {
        "id": "uAuRZmw4sgPj"
      },
      "outputs": [],
      "source": [
        "def model_evaluation(trained_model_dict, X_val, y_val, cfip):\n",
        "  '''\n",
        "  Finds the SMAPE evaluation metric for each model in `trained_model_dict` using\n",
        "  `X_val` and `y_val`.\n",
        "  \n",
        "  Plots the different SMAPE evaluation metrics for each model in `trained_model_dict`.\n",
        "  \n",
        "  Plots the forecasted values for each model and for the given `cfip` code, comparing them to `y_val` (actual values).\n",
        "  '''\n",
        "  smape_scores = []\n",
        "  fig1, ax1 = plt.subplots(1, 2, figsize=(22, 7))\n",
        "  fig2, ax2 = plt.subplots(1, len(trained_model_dict), figsize=(22, 4))\n",
        "  color_scheme = ['orange', 'green', 'red', 'pink']\n",
        "  i = 0\n",
        "  \n",
        "  for model_name, trained_model in trained_model_dict.items():\n",
        "    # Calculating train SMAPE metric\n",
        "    train_preds = trained_model.predict(X_train)\n",
        "    train_smape = SMAPE(y_train, train_preds)\n",
        "    \n",
        "    # Calculating validation SMAPE metric\n",
        "    preds = trained_model.predict(X_val)\n",
        "    val_smape = SMAPE(y_val, preds)\n",
        "    \n",
        "    # Appending validation SMAPE to plot it later on\n",
        "    smape_scores.append(val_smape)\n",
        "    \n",
        "    # Documenting Metrics\n",
        "    print(f'{model_name} (Validation SMAPE): {val_smape * 100:.2f}%')\n",
        "    print(f'{model_name} (Training SMAPE): {train_smape * 100:.2f}%')\n",
        "    print('--------------------------------------------------------')\n",
        "    \n",
        "    # Plotting main lineplot\n",
        "    all_dates = raw[raw['cfips'] == cfip]['month'].astype(str) + '-' + raw[raw['cfips'] == cfip]['year'].astype(str)\n",
        "    validation_dates = X_val[X_val['cfips'] == cfip]['month'].astype(str) + '-' + X_val[X_val['cfips'] == cfip]['year'].astype(str)\n",
        "    \n",
        "    if (i == 0): ax1[1].plot(all_dates, raw[raw['cfips'] == cfip]['microbusiness_density'], label='Actual Values')\n",
        "    ax1[1].plot(validation_dates, preds[X_val[X_val['cfips'] == cfip].index], label=f'{model_name} Predictions', color=color_scheme[i])\n",
        "\n",
        "    # Plotting  supportive lineplots\n",
        "    ax2[i].plot(validation_dates, y_val[X_val[X_val['cfips'] == cfip].index], label='Actual Values')\n",
        "    ax2[i].plot(validation_dates, preds[X_val[X_val['cfips'] == cfip].index], label=f'{model_name} Predictions', color=color_scheme[i])\n",
        "    i += 1\n",
        "  \n",
        "  # Plotting Barplot\n",
        "  ax1[0].bar(trained_model_dict.keys(), smape_scores, color=color_scheme)\n",
        "  \n",
        "  # Main Plot Customizations  \n",
        "  ax1[1].legend()\n",
        "  ax1[0].set_ylabel('SMAPE (%)')  \n",
        "  ax1[1].set_ylabel('Microbusiness Density')\n",
        "  ax1[1].tick_params(axis='x', labelrotation=45)\n",
        "  ax1[1].set_title(f'CFIP: {cfip}')\n",
        "  ax1[1].grid(True)\n",
        "  \n",
        "  # Supporting Plot Customizations\n",
        "  ax2[0].set_ylabel('Microbusiness Density')\n",
        "  ax2[1].set_title(f'CFIP: {cfip}')\n",
        "  for i in range(len(trained_model_dict)):\n",
        "    ax2[i].tick_params(axis='x', labelrotation=45)\n",
        "    ax2[i].grid(True)\n",
        "    ax2[i].legend()\n",
        "      \n",
        "  plt.show()"
      ]
    },
    {
      "cell_type": "code",
      "execution_count": 24,
      "metadata": {
        "id": "GS9OJAOPsgPl",
        "outputId": "eed8383b-1e1b-4bfa-f2cb-785586571fb2"
      },
      "outputs": [
        {
          "name": "stdout",
          "output_type": "stream",
          "text": [
            "LinearRegression (Validation SMAPE): 62.20%\n",
            "LinearRegression (Training SMAPE): 62.27%\n",
            "--------------------------------------------------------\n",
            "RandomForestRegressor (Validation SMAPE): 4.65%\n",
            "RandomForestRegressor (Training SMAPE): 0.90%\n",
            "--------------------------------------------------------\n",
            "XGBoostRegressor (Validation SMAPE): 35.79%\n",
            "XGBoostRegressor (Training SMAPE): 35.79%\n",
            "--------------------------------------------------------\n"
          ]
        },
        {
          "data": {
            "image/png": "[encoded data removed]",
            "text/plain": [
              "<Figure size 1584x504 with 2 Axes>"
            ]
          },
          "metadata": {
            "needs_background": "light"
          },
          "output_type": "display_data"
        },
        {
          "data": {
            "image/png": "[encoded data removed]",
            "text/plain": [
              "<Figure size 1584x288 with 3 Axes>"
            ]
          },
          "metadata": {
            "needs_background": "light"
          },
          "output_type": "display_data"
        }
      ],
      "source": [
        "model_evaluation(trained_model_dict, X_val, y_val, 1007)"
      ]
    },
    {
      "attachments": {},
      "cell_type": "markdown",
      "metadata": {
        "id": "djFlsQhpsgPm"
      },
      "source": [
        "# Feature Importance\n",
        "\n",
        "1. Train best model on all the data\n",
        "2. Graph feature importance"
      ]
    },
    {
      "attachments": {},
      "cell_type": "markdown",
      "metadata": {},
      "source": [
        "### 1. Train Best Model on all Data"
      ]
    },
    {
      "cell_type": "code",
      "execution_count": 77,
      "metadata": {},
      "outputs": [
        {
          "data": {
            "text/html": [
              "<style>#sk-container-id-4 {color: black;background-color: white;}#sk-container-id-4 pre{padding: 0;}#sk-container-id-4 div.sk-toggleable {background-color: white;}#sk-container-id-4 label.sk-toggleable__label {cursor: pointer;display: block;width: 100%;margin-bottom: 0;padding: 0.3em;box-sizing: border-box;text-align: center;}#sk-container-id-4 label.sk-toggleable__label-arrow:before {content: \"▸\";float: left;margin-right: 0.25em;color: #696969;}#sk-container-id-4 label.sk-toggleable__label-arrow:hover:before {color: black;}#sk-container-id-4 div.sk-estimator:hover label.sk-toggleable__label-arrow:before {color: black;}#sk-container-id-4 div.sk-toggleable__content {max-height: 0;max-width: 0;overflow: hidden;text-align: left;background-color: #f0f8ff;}#sk-container-id-4 div.sk-toggleable__content pre {margin: 0.2em;color: black;border-radius: 0.25em;background-color: #f0f8ff;}#sk-container-id-4 input.sk-toggleable__control:checked~div.sk-toggleable__content {max-height: 200px;max-width: 100%;overflow: auto;}#sk-container-id-4 input.sk-toggleable__control:checked~label.sk-toggleable__label-arrow:before {content: \"▾\";}#sk-container-id-4 div.sk-estimator input.sk-toggleable__control:checked~label.sk-toggleable__label {background-color: #d4ebff;}#sk-container-id-4 div.sk-label input.sk-toggleable__control:checked~label.sk-toggleable__label {background-color: #d4ebff;}#sk-container-id-4 input.sk-hidden--visually {border: 0;clip: rect(1px 1px 1px 1px);clip: rect(1px, 1px, 1px, 1px);height: 1px;margin: -1px;overflow: hidden;padding: 0;position: absolute;width: 1px;}#sk-container-id-4 div.sk-estimator {font-family: monospace;background-color: #f0f8ff;border: 1px dotted black;border-radius: 0.25em;box-sizing: border-box;margin-bottom: 0.5em;}#sk-container-id-4 div.sk-estimator:hover {background-color: #d4ebff;}#sk-container-id-4 div.sk-parallel-item::after {content: \"\";width: 100%;border-bottom: 1px solid gray;flex-grow: 1;}#sk-container-id-4 div.sk-label:hover label.sk-toggleable__label {background-color: #d4ebff;}#sk-container-id-4 div.sk-serial::before {content: \"\";position: absolute;border-left: 1px solid gray;box-sizing: border-box;top: 0;bottom: 0;left: 50%;z-index: 0;}#sk-container-id-4 div.sk-serial {display: flex;flex-direction: column;align-items: center;background-color: white;padding-right: 0.2em;padding-left: 0.2em;position: relative;}#sk-container-id-4 div.sk-item {position: relative;z-index: 1;}#sk-container-id-4 div.sk-parallel {display: flex;align-items: stretch;justify-content: center;background-color: white;position: relative;}#sk-container-id-4 div.sk-item::before, #sk-container-id-4 div.sk-parallel-item::before {content: \"\";position: absolute;border-left: 1px solid gray;box-sizing: border-box;top: 0;bottom: 0;left: 50%;z-index: -1;}#sk-container-id-4 div.sk-parallel-item {display: flex;flex-direction: column;z-index: 1;position: relative;background-color: white;}#sk-container-id-4 div.sk-parallel-item:first-child::after {align-self: flex-end;width: 50%;}#sk-container-id-4 div.sk-parallel-item:last-child::after {align-self: flex-start;width: 50%;}#sk-container-id-4 div.sk-parallel-item:only-child::after {width: 0;}#sk-container-id-4 div.sk-dashed-wrapped {border: 1px dashed gray;margin: 0 0.4em 0.5em 0.4em;box-sizing: border-box;padding-bottom: 0.4em;background-color: white;}#sk-container-id-4 div.sk-label label {font-family: monospace;font-weight: bold;display: inline-block;line-height: 1.2em;}#sk-container-id-4 div.sk-label-container {text-align: center;}#sk-container-id-4 div.sk-container {/* jupyter's `normalize.less` sets `[hidden] { display: none; }` but bootstrap.min.css set `[hidden] { display: none !important; }` so we also need the `!important` here to be able to override the default hidden behavior on the sphinx rendered scikit-learn.org. See: https://github.com/scikit-learn/scikit-learn/issues/21755 */display: inline-block !important;position: relative;}#sk-container-id-4 div.sk-text-repr-fallback {display: none;}</style><div id=\"sk-container-id-4\" class=\"sk-top-container\"><div class=\"sk-text-repr-fallback\"><pre>RandomForestRegressor()</pre><b>In a Jupyter environment, please rerun this cell to show the HTML representation or trust the notebook. <br />On GitHub, the HTML representation is unable to render, please try loading this page with nbviewer.org.</b></div><div class=\"sk-container\" hidden><div class=\"sk-item\"><div class=\"sk-estimator sk-toggleable\"><input class=\"sk-toggleable__control sk-hidden--visually\" id=\"sk-estimator-id-4\" type=\"checkbox\" checked><label for=\"sk-estimator-id-4\" class=\"sk-toggleable__label sk-toggleable__label-arrow\">RandomForestRegressor</label><div class=\"sk-toggleable__content\"><pre>RandomForestRegressor()</pre></div></div></div></div></div>"
            ],
            "text/plain": [
              "RandomForestRegressor()"
            ]
          },
          "execution_count": 77,
          "metadata": {},
          "output_type": "execute_result"
        }
      ],
      "source": [
        "rf = RandomForestRegressor()\n",
        "rf.fit(raw.drop(['microbusiness_density'], axis=1), raw['microbusiness_density'])"
      ]
    },
    {
      "attachments": {},
      "cell_type": "markdown",
      "metadata": {},
      "source": [
        "### 2. Graphing Feature Importance"
      ]
    },
    {
      "cell_type": "code",
      "execution_count": 78,
      "metadata": {
        "id": "F7c9QRkVsgPm",
        "outputId": "9e246aba-8fb7-4eb0-887b-848295cb5962"
      },
      "outputs": [
        {
          "data": {
            "image/png": "[encoded data removed]",
            "text/plain": [
              "<Figure size 432x288 with 1 Axes>"
            ]
          },
          "metadata": {
            "needs_background": "light"
          },
          "output_type": "display_data"
        }
      ],
      "source": [
        "feature_importance = rf.feature_importances_\n",
        "plt.bar(np.array(X_train.columns), feature_importance);"
      ]
    },
    {
      "attachments": {},
      "cell_type": "markdown",
      "metadata": {
        "id": "5ZoBITFXsgPn"
      },
      "source": [
        "# <center><div style=\"font-family: sans-serif; border-radius : 10px; background-color: #000000; color: #00DDDE; padding: 12px; line-height: 1;\">Submission</div></center>\n",
        "1. Train best model on all data\n",
        "2. Data manipulation on test set\n",
        "3. Generate predictions on test set\n",
        "4. Create final submission dataframe"
      ]
    },
    {
      "attachments": {},
      "cell_type": "markdown",
      "metadata": {},
      "source": [
        "### 1. Train Best Model on All Data (Already Done)"
      ]
    },
    {
      "cell_type": "code",
      "execution_count": 87,
      "metadata": {},
      "outputs": [],
      "source": [
        "rf_submission_1 = rf"
      ]
    },
    {
      "attachments": {},
      "cell_type": "markdown",
      "metadata": {
        "id": "RMWDEULjsgPn"
      },
      "source": [
        "### Data Manipulation on Test Set"
      ]
    },
    {
      "cell_type": "code",
      "execution_count": 88,
      "metadata": {
        "id": "DRHORKKfsgPn",
        "outputId": "538bdd95-81a4-45fe-84ad-7feb2ce2cc2e"
      },
      "outputs": [
        {
          "data": {
            "text/html": [
              "<div>\n",
              "<style scoped>\n",
              "    .dataframe tbody tr th:only-of-type {\n",
              "        vertical-align: middle;\n",
              "    }\n",
              "\n",
              "    .dataframe tbody tr th {\n",
              "        vertical-align: top;\n",
              "    }\n",
              "\n",
              "    .dataframe thead th {\n",
              "        text-align: right;\n",
              "    }\n",
              "</style>\n",
              "<table border=\"1\" class=\"dataframe\">\n",
              "  <thead>\n",
              "    <tr style=\"text-align: right;\">\n",
              "      <th></th>\n",
              "      <th>row_id</th>\n",
              "      <th>cfips</th>\n",
              "      <th>first_day_of_month</th>\n",
              "    </tr>\n",
              "  </thead>\n",
              "  <tbody>\n",
              "    <tr>\n",
              "      <th>0</th>\n",
              "      <td>1001_2022-11-01</td>\n",
              "      <td>1001</td>\n",
              "      <td>2022-11-01</td>\n",
              "    </tr>\n",
              "    <tr>\n",
              "      <th>1</th>\n",
              "      <td>1003_2022-11-01</td>\n",
              "      <td>1003</td>\n",
              "      <td>2022-11-01</td>\n",
              "    </tr>\n",
              "    <tr>\n",
              "      <th>2</th>\n",
              "      <td>1005_2022-11-01</td>\n",
              "      <td>1005</td>\n",
              "      <td>2022-11-01</td>\n",
              "    </tr>\n",
              "    <tr>\n",
              "      <th>3</th>\n",
              "      <td>1007_2022-11-01</td>\n",
              "      <td>1007</td>\n",
              "      <td>2022-11-01</td>\n",
              "    </tr>\n",
              "    <tr>\n",
              "      <th>4</th>\n",
              "      <td>1009_2022-11-01</td>\n",
              "      <td>1009</td>\n",
              "      <td>2022-11-01</td>\n",
              "    </tr>\n",
              "  </tbody>\n",
              "</table>\n",
              "</div>"
            ],
            "text/plain": [
              "            row_id  cfips first_day_of_month\n",
              "0  1001_2022-11-01   1001         2022-11-01\n",
              "1  1003_2022-11-01   1003         2022-11-01\n",
              "2  1005_2022-11-01   1005         2022-11-01\n",
              "3  1007_2022-11-01   1007         2022-11-01\n",
              "4  1009_2022-11-01   1009         2022-11-01"
            ]
          },
          "execution_count": 88,
          "metadata": {},
          "output_type": "execute_result"
        }
      ],
      "source": [
        "test = pd.read_csv('data/test.csv', parse_dates=['first_day_of_month'])\n",
        "test.head()"
      ]
    },
    {
      "cell_type": "code",
      "execution_count": 89,
      "metadata": {},
      "outputs": [],
      "source": [
        "# Separate first_day_of_month\n",
        "test['year'] = test['first_day_of_month'].dt.year\n",
        "test['month'] = test['first_day_of_month'].dt.month\n",
        "\n",
        "# Saving row_id for making submission dataframe\n",
        "test_row_id = test['row_id']\n",
        "\n",
        "# Remove row_id\n",
        "test.drop(['row_id', 'first_day_of_month'], axis=1, inplace=True)"
      ]
    },
    {
      "cell_type": "code",
      "execution_count": 90,
      "metadata": {},
      "outputs": [
        {
          "data": {
            "text/html": [
              "<div>\n",
              "<style scoped>\n",
              "    .dataframe tbody tr th:only-of-type {\n",
              "        vertical-align: middle;\n",
              "    }\n",
              "\n",
              "    .dataframe tbody tr th {\n",
              "        vertical-align: top;\n",
              "    }\n",
              "\n",
              "    .dataframe thead th {\n",
              "        text-align: right;\n",
              "    }\n",
              "</style>\n",
              "<table border=\"1\" class=\"dataframe\">\n",
              "  <thead>\n",
              "    <tr style=\"text-align: right;\">\n",
              "      <th></th>\n",
              "      <th>cfips</th>\n",
              "      <th>year</th>\n",
              "      <th>month</th>\n",
              "    </tr>\n",
              "  </thead>\n",
              "  <tbody>\n",
              "    <tr>\n",
              "      <th>0</th>\n",
              "      <td>1001</td>\n",
              "      <td>2022</td>\n",
              "      <td>11</td>\n",
              "    </tr>\n",
              "    <tr>\n",
              "      <th>1</th>\n",
              "      <td>1003</td>\n",
              "      <td>2022</td>\n",
              "      <td>11</td>\n",
              "    </tr>\n",
              "    <tr>\n",
              "      <th>2</th>\n",
              "      <td>1005</td>\n",
              "      <td>2022</td>\n",
              "      <td>11</td>\n",
              "    </tr>\n",
              "    <tr>\n",
              "      <th>3</th>\n",
              "      <td>1007</td>\n",
              "      <td>2022</td>\n",
              "      <td>11</td>\n",
              "    </tr>\n",
              "    <tr>\n",
              "      <th>4</th>\n",
              "      <td>1009</td>\n",
              "      <td>2022</td>\n",
              "      <td>11</td>\n",
              "    </tr>\n",
              "  </tbody>\n",
              "</table>\n",
              "</div>"
            ],
            "text/plain": [
              "   cfips  year  month\n",
              "0   1001  2022     11\n",
              "1   1003  2022     11\n",
              "2   1005  2022     11\n",
              "3   1007  2022     11\n",
              "4   1009  2022     11"
            ]
          },
          "execution_count": 90,
          "metadata": {},
          "output_type": "execute_result"
        }
      ],
      "source": [
        "test.head()"
      ]
    },
    {
      "attachments": {},
      "cell_type": "markdown",
      "metadata": {
        "id": "XFACd8VusgPp"
      },
      "source": [
        "### 3. Getting Predictions on Test Set"
      ]
    },
    {
      "cell_type": "code",
      "execution_count": 91,
      "metadata": {
        "id": "DEbmADnMsgPq"
      },
      "outputs": [],
      "source": [
        "submission_preds = rf_submission_1.predict(test)"
      ]
    },
    {
      "cell_type": "code",
      "execution_count": 92,
      "metadata": {
        "id": "x71q97mbsgPq",
        "outputId": "cbd9164d-40ce-4d6e-f0ff-cf429119c4d5"
      },
      "outputs": [
        {
          "data": {
            "text/plain": [
              "(25080, 25080)"
            ]
          },
          "execution_count": 92,
          "metadata": {},
          "output_type": "execute_result"
        }
      ],
      "source": [
        "len(submission_preds), len(test_row_id)"
      ]
    },
    {
      "attachments": {},
      "cell_type": "markdown",
      "metadata": {
        "id": "saErjNiysgPq"
      },
      "source": [
        "### 4. Making Submission DataFrame"
      ]
    },
    {
      "cell_type": "code",
      "execution_count": 93,
      "metadata": {
        "id": "D0qDErF0sgPq",
        "outputId": "62fd0e78-d2af-44b0-89cd-c68b723a6b98"
      },
      "outputs": [
        {
          "data": {
            "text/html": [
              "<div>\n",
              "<style scoped>\n",
              "    .dataframe tbody tr th:only-of-type {\n",
              "        vertical-align: middle;\n",
              "    }\n",
              "\n",
              "    .dataframe tbody tr th {\n",
              "        vertical-align: top;\n",
              "    }\n",
              "\n",
              "    .dataframe thead th {\n",
              "        text-align: right;\n",
              "    }\n",
              "</style>\n",
              "<table border=\"1\" class=\"dataframe\">\n",
              "  <thead>\n",
              "    <tr style=\"text-align: right;\">\n",
              "      <th></th>\n",
              "      <th>row_id</th>\n",
              "      <th>microbusiness_density</th>\n",
              "    </tr>\n",
              "  </thead>\n",
              "  <tbody>\n",
              "    <tr>\n",
              "      <th>0</th>\n",
              "      <td>1001_2022-11-01</td>\n",
              "      <td>3.452537</td>\n",
              "    </tr>\n",
              "    <tr>\n",
              "      <th>1</th>\n",
              "      <td>1003_2022-11-01</td>\n",
              "      <td>8.353497</td>\n",
              "    </tr>\n",
              "    <tr>\n",
              "      <th>2</th>\n",
              "      <td>1005_2022-11-01</td>\n",
              "      <td>1.225860</td>\n",
              "    </tr>\n",
              "    <tr>\n",
              "      <th>3</th>\n",
              "      <td>1007_2022-11-01</td>\n",
              "      <td>1.273810</td>\n",
              "    </tr>\n",
              "    <tr>\n",
              "      <th>4</th>\n",
              "      <td>1009_2022-11-01</td>\n",
              "      <td>1.833923</td>\n",
              "    </tr>\n",
              "  </tbody>\n",
              "</table>\n",
              "</div>"
            ],
            "text/plain": [
              "            row_id  microbusiness_density\n",
              "0  1001_2022-11-01               3.452537\n",
              "1  1003_2022-11-01               8.353497\n",
              "2  1005_2022-11-01               1.225860\n",
              "3  1007_2022-11-01               1.273810\n",
              "4  1009_2022-11-01               1.833923"
            ]
          },
          "execution_count": 93,
          "metadata": {},
          "output_type": "execute_result"
        }
      ],
      "source": [
        "submission = pd.DataFrame({'row_id': test_row_id, \n",
        "              'microbusiness_density': submission_preds})\n",
        "submission.head()"
      ]
    },
    {
      "cell_type": "code",
      "execution_count": 94,
      "metadata": {
        "id": "2A5dHlJ1sgPq"
      },
      "outputs": [],
      "source": [
        "submission.to_csv('data/first_basic_submission.csv', index=False)"
      ]
    },
    {
      "attachments": {},
      "cell_type": "markdown",
      "metadata": {},
      "source": [
        "# <center><div style=\"font-family: sans-serif; border-radius : 10px; background-color: #000000; color: #00DDDE; padding: 12px; line-height: 1;\">Kaggle Score: 1.737</div></center>"
      ]
    },
    {
      "attachments": {},
      "cell_type": "markdown",
      "metadata": {
        "id": "nLGPBtCwsgPr"
      },
      "source": [
        "# <center><div style=\"font-family: sans-serif; border-radius : 10px; background-color: #000000; color: #00DDDE; padding: 12px; line-height: 1;\">Future Steps</div></center>\n",
        "\n",
        "* It is to be noted that Random Forest is doing quite well on the data\n",
        "* ❌ Separate the cfip ID for the state & the county into separate columns and see if that improves the model ❌\n",
        "* Need to combine census data and the training set\n",
        "* May want to use models like SARIMA and ARIMA or SVM which are good for forecast modeling\n",
        "* Above, we removed the `active` column from the training set but it helped the model a lot when we trained on it, so try to get that data for test set\n",
        "* Need to combine loads of data found <a href='https://www.godaddy.com/ventureforward/microbusiness-datahub/'>here</a> with training set\n",
        "* Need to do hypertuning after getting all the data together\n",
        "* Could also try to train multiple small models for each county\n",
        "\n",
        "**IMPORTANT:** The census data has a 2-year lag. This means that the 2017 data in the census dataset actually correlates to the 2019 data in the train dataset."
      ]
    }
  ],
  "metadata": {
    "colab": {
      "include_colab_link": true,
      "provenance": []
    },
    "kernelspec": {
      "display_name": "base",
      "language": "python",
      "name": "python3"
    },
    "language_info": {
      "codemirror_mode": {
        "name": "ipython",
        "version": 3
      },
      "file_extension": ".py",
      "mimetype": "text/x-python",
      "name": "python",
      "nbconvert_exporter": "python",
      "pygments_lexer": "ipython3",
      "version": "3.9.7 (default, Sep 16 2021, 16:59:28) [MSC v.1916 64 bit (AMD64)]"
    },
    "orig_nbformat": 4,
    "vscode": {
      "interpreter": {
        "hash": "425927320cfd38c1f4d04dab592055e2380257b6c8d6532762caec5aa72862cb"
      }
    }
  },
  "nbformat": 4,
  "nbformat_minor": 0
}
