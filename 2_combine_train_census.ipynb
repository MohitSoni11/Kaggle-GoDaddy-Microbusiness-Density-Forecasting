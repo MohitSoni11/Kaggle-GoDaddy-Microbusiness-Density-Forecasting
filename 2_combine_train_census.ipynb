{
 "cells": [
  {
   "attachments": {},
   "cell_type": "markdown",
   "metadata": {},
   "source": [
    "# <center><div style=\"font-family: sans-serif; border-radius : 10px; background-color: #000000; color: #00DDDE; padding: 12px; line-height: 1;\">Imports</div></center>"
   ]
  },
  {
   "cell_type": "code",
   "execution_count": 1,
   "metadata": {},
   "outputs": [],
   "source": [
    "# Data manipulation\n",
    "import numpy as np\n",
    "import pandas as pd\n",
    "\n",
    "# Plotting\n",
    "import matplotlib.pyplot as plt\n",
    "import seaborn as sns\n",
    "\n",
    "# Machine Learning supplements\n",
    "from sklearn.model_selection import train_test_split\n",
    "\n",
    "# Models\n",
    "from sklearn.ensemble import RandomForestRegressor\n",
    "\n",
    "# Other\n",
    "import time"
   ]
  },
  {
   "attachments": {},
   "cell_type": "markdown",
   "metadata": {},
   "source": [
    "# <center><div style=\"font-family: sans-serif; border-radius : 10px; background-color: #000000; color: #00DDDE; padding: 12px; line-height: 1;\">Approach 2 - Adding Census Data to Raw Data & Basic Modelling</div></center>"
   ]
  },
  {
   "attachments": {},
   "cell_type": "markdown",
   "metadata": {},
   "source": [
    "# Data Manipulation\n",
    "1. Raw data manipulation\n",
    "  * Feature Selection\n",
    "  * Fill in missing values\n",
    "  * Convert categorical columns to numerical\n",
    "2. Census data manipulation\n",
    "  * Feature Selection\n",
    "  * Fill in missing values\n",
    "  * Convert categorical columns to numerical\n",
    "3. Combine Raw data & Census data\n",
    "4. Split data\n",
    "\n",
    "**IMPORTANT:** We're going to functionize all the data manipulations on the training set so that we can easily replicate them on the test set later on during submission."
   ]
  },
  {
   "attachments": {},
   "cell_type": "markdown",
   "metadata": {},
   "source": [
    "### 1. Raw Data Manipulation\n",
    "\n",
    "Since we are not really changing the raw data for approach 2 right now, the same data manipulations apply as approach 1."
   ]
  },
  {
   "cell_type": "code",
   "execution_count": 2,
   "metadata": {},
   "outputs": [],
   "source": [
    "raw = pd.read_csv('data/train.csv', parse_dates=['first_day_of_month'])"
   ]
  },
  {
   "cell_type": "code",
   "execution_count": 3,
   "metadata": {},
   "outputs": [
    {
     "data": {
      "text/html": [
       "<div>\n",
       "<style scoped>\n",
       "    .dataframe tbody tr th:only-of-type {\n",
       "        vertical-align: middle;\n",
       "    }\n",
       "\n",
       "    .dataframe tbody tr th {\n",
       "        vertical-align: top;\n",
       "    }\n",
       "\n",
       "    .dataframe thead th {\n",
       "        text-align: right;\n",
       "    }\n",
       "</style>\n",
       "<table border=\"1\" class=\"dataframe\">\n",
       "  <thead>\n",
       "    <tr style=\"text-align: right;\">\n",
       "      <th></th>\n",
       "      <th>row_id</th>\n",
       "      <th>cfips</th>\n",
       "      <th>county</th>\n",
       "      <th>state</th>\n",
       "      <th>first_day_of_month</th>\n",
       "      <th>microbusiness_density</th>\n",
       "      <th>active</th>\n",
       "    </tr>\n",
       "  </thead>\n",
       "  <tbody>\n",
       "    <tr>\n",
       "      <th>0</th>\n",
       "      <td>1001_2019-08-01</td>\n",
       "      <td>1001</td>\n",
       "      <td>Autauga County</td>\n",
       "      <td>Alabama</td>\n",
       "      <td>2019-08-01</td>\n",
       "      <td>3.007682</td>\n",
       "      <td>1249</td>\n",
       "    </tr>\n",
       "    <tr>\n",
       "      <th>1</th>\n",
       "      <td>1001_2019-09-01</td>\n",
       "      <td>1001</td>\n",
       "      <td>Autauga County</td>\n",
       "      <td>Alabama</td>\n",
       "      <td>2019-09-01</td>\n",
       "      <td>2.884870</td>\n",
       "      <td>1198</td>\n",
       "    </tr>\n",
       "    <tr>\n",
       "      <th>2</th>\n",
       "      <td>1001_2019-10-01</td>\n",
       "      <td>1001</td>\n",
       "      <td>Autauga County</td>\n",
       "      <td>Alabama</td>\n",
       "      <td>2019-10-01</td>\n",
       "      <td>3.055843</td>\n",
       "      <td>1269</td>\n",
       "    </tr>\n",
       "    <tr>\n",
       "      <th>3</th>\n",
       "      <td>1001_2019-11-01</td>\n",
       "      <td>1001</td>\n",
       "      <td>Autauga County</td>\n",
       "      <td>Alabama</td>\n",
       "      <td>2019-11-01</td>\n",
       "      <td>2.993233</td>\n",
       "      <td>1243</td>\n",
       "    </tr>\n",
       "    <tr>\n",
       "      <th>4</th>\n",
       "      <td>1001_2019-12-01</td>\n",
       "      <td>1001</td>\n",
       "      <td>Autauga County</td>\n",
       "      <td>Alabama</td>\n",
       "      <td>2019-12-01</td>\n",
       "      <td>2.993233</td>\n",
       "      <td>1243</td>\n",
       "    </tr>\n",
       "  </tbody>\n",
       "</table>\n",
       "</div>"
      ],
      "text/plain": [
       "            row_id  cfips          county    state first_day_of_month  \\\n",
       "0  1001_2019-08-01   1001  Autauga County  Alabama         2019-08-01   \n",
       "1  1001_2019-09-01   1001  Autauga County  Alabama         2019-09-01   \n",
       "2  1001_2019-10-01   1001  Autauga County  Alabama         2019-10-01   \n",
       "3  1001_2019-11-01   1001  Autauga County  Alabama         2019-11-01   \n",
       "4  1001_2019-12-01   1001  Autauga County  Alabama         2019-12-01   \n",
       "\n",
       "   microbusiness_density  active  \n",
       "0               3.007682    1249  \n",
       "1               2.884870    1198  \n",
       "2               3.055843    1269  \n",
       "3               2.993233    1243  \n",
       "4               2.993233    1243  "
      ]
     },
     "execution_count": 3,
     "metadata": {},
     "output_type": "execute_result"
    }
   ],
   "source": [
    "raw.head()"
   ]
  },
  {
   "cell_type": "code",
   "execution_count": 4,
   "metadata": {},
   "outputs": [],
   "source": [
    "# Separate first_day_of_month\n",
    "raw['year'] = raw['first_day_of_month'].dt.year\n",
    "raw['month'] = raw['first_day_of_month'].dt.month\n",
    "\n",
    "# Remove redundant/not applicable columns\n",
    "raw.drop(['row_id', 'county', 'state', 'active', 'first_day_of_month'], axis=1, inplace=True)"
   ]
  },
  {
   "cell_type": "code",
   "execution_count": 5,
   "metadata": {},
   "outputs": [
    {
     "data": {
      "text/html": [
       "<div>\n",
       "<style scoped>\n",
       "    .dataframe tbody tr th:only-of-type {\n",
       "        vertical-align: middle;\n",
       "    }\n",
       "\n",
       "    .dataframe tbody tr th {\n",
       "        vertical-align: top;\n",
       "    }\n",
       "\n",
       "    .dataframe thead th {\n",
       "        text-align: right;\n",
       "    }\n",
       "</style>\n",
       "<table border=\"1\" class=\"dataframe\">\n",
       "  <thead>\n",
       "    <tr style=\"text-align: right;\">\n",
       "      <th></th>\n",
       "      <th>cfips</th>\n",
       "      <th>microbusiness_density</th>\n",
       "      <th>year</th>\n",
       "      <th>month</th>\n",
       "    </tr>\n",
       "  </thead>\n",
       "  <tbody>\n",
       "    <tr>\n",
       "      <th>0</th>\n",
       "      <td>1001</td>\n",
       "      <td>3.007682</td>\n",
       "      <td>2019</td>\n",
       "      <td>8</td>\n",
       "    </tr>\n",
       "    <tr>\n",
       "      <th>1</th>\n",
       "      <td>1001</td>\n",
       "      <td>2.884870</td>\n",
       "      <td>2019</td>\n",
       "      <td>9</td>\n",
       "    </tr>\n",
       "    <tr>\n",
       "      <th>2</th>\n",
       "      <td>1001</td>\n",
       "      <td>3.055843</td>\n",
       "      <td>2019</td>\n",
       "      <td>10</td>\n",
       "    </tr>\n",
       "    <tr>\n",
       "      <th>3</th>\n",
       "      <td>1001</td>\n",
       "      <td>2.993233</td>\n",
       "      <td>2019</td>\n",
       "      <td>11</td>\n",
       "    </tr>\n",
       "    <tr>\n",
       "      <th>4</th>\n",
       "      <td>1001</td>\n",
       "      <td>2.993233</td>\n",
       "      <td>2019</td>\n",
       "      <td>12</td>\n",
       "    </tr>\n",
       "  </tbody>\n",
       "</table>\n",
       "</div>"
      ],
      "text/plain": [
       "   cfips  microbusiness_density  year  month\n",
       "0   1001               3.007682  2019      8\n",
       "1   1001               2.884870  2019      9\n",
       "2   1001               3.055843  2019     10\n",
       "3   1001               2.993233  2019     11\n",
       "4   1001               2.993233  2019     12"
      ]
     },
     "execution_count": 5,
     "metadata": {},
     "output_type": "execute_result"
    }
   ],
   "source": [
    "raw.head()"
   ]
  },
  {
   "attachments": {},
   "cell_type": "markdown",
   "metadata": {},
   "source": [
    "### 2. Census Data Manipulation"
   ]
  },
  {
   "cell_type": "code",
   "execution_count": 6,
   "metadata": {},
   "outputs": [],
   "source": [
    "census = pd.read_csv('data/census_starter.csv')"
   ]
  },
  {
   "cell_type": "code",
   "execution_count": 7,
   "metadata": {},
   "outputs": [
    {
     "data": {
      "text/plain": [
       "Index(['pct_bb_2017', 'pct_bb_2018', 'pct_bb_2019', 'pct_bb_2020',\n",
       "       'pct_bb_2021', 'cfips', 'pct_college_2017', 'pct_college_2018',\n",
       "       'pct_college_2019', 'pct_college_2020', 'pct_college_2021',\n",
       "       'pct_foreign_born_2017', 'pct_foreign_born_2018',\n",
       "       'pct_foreign_born_2019', 'pct_foreign_born_2020',\n",
       "       'pct_foreign_born_2021', 'pct_it_workers_2017', 'pct_it_workers_2018',\n",
       "       'pct_it_workers_2019', 'pct_it_workers_2020', 'pct_it_workers_2021',\n",
       "       'median_hh_inc_2017', 'median_hh_inc_2018', 'median_hh_inc_2019',\n",
       "       'median_hh_inc_2020', 'median_hh_inc_2021'],\n",
       "      dtype='object')"
      ]
     },
     "execution_count": 7,
     "metadata": {},
     "output_type": "execute_result"
    }
   ],
   "source": [
    "census.columns"
   ]
  },
  {
   "attachments": {},
   "cell_type": "markdown",
   "metadata": {},
   "source": [
    "#### Feature Selection\n",
    "\n",
    "There are a lot of features in the census dataset but there are 5 main categories:\n",
    "* `pct_bb_[year]` - **relevant**\n",
    "  * The percentage of households in the county with access to broadband of any type\n",
    "* `cfips` - **relevant**\n",
    "  * The CFIPS code for the specific county\n",
    "* `pct_college_[year]` - **relevant**\n",
    "  * The percent of the population in the county over age 25 with a 4-year college degree\n",
    "* `pct_foreign_born_[year]` - **relevant**\n",
    "  * The percent of the population in the county born outside of the United States\n",
    "* `pct_it_workers_[year]` - **relevant**\n",
    "  * The percent of the workforce in the county employed in information related industries\n",
    "* `median_hh_inc_[year]` - **relevant**\n",
    "  * The median household income in the county"
   ]
  },
  {
   "attachments": {},
   "cell_type": "markdown",
   "metadata": {},
   "source": [
    "#### Fill in Missing Values"
   ]
  },
  {
   "cell_type": "code",
   "execution_count": 8,
   "metadata": {},
   "outputs": [
    {
     "data": {
      "text/plain": [
       "pct_bb_2017              0\n",
       "pct_bb_2018              0\n",
       "pct_bb_2019              0\n",
       "pct_bb_2020              1\n",
       "pct_bb_2021              1\n",
       "cfips                    0\n",
       "pct_college_2017         0\n",
       "pct_college_2018         0\n",
       "pct_college_2019         0\n",
       "pct_college_2020         1\n",
       "pct_college_2021         1\n",
       "pct_foreign_born_2017    0\n",
       "pct_foreign_born_2018    0\n",
       "pct_foreign_born_2019    0\n",
       "pct_foreign_born_2020    1\n",
       "pct_foreign_born_2021    1\n",
       "pct_it_workers_2017      0\n",
       "pct_it_workers_2018      1\n",
       "pct_it_workers_2019      0\n",
       "pct_it_workers_2020      1\n",
       "pct_it_workers_2021      1\n",
       "median_hh_inc_2017       0\n",
       "median_hh_inc_2018       1\n",
       "median_hh_inc_2019       0\n",
       "median_hh_inc_2020       2\n",
       "median_hh_inc_2021       2\n",
       "dtype: int64"
      ]
     },
     "execution_count": 8,
     "metadata": {},
     "output_type": "execute_result"
    }
   ],
   "source": [
    "census.isna().sum()"
   ]
  },
  {
   "cell_type": "code",
   "execution_count": 9,
   "metadata": {},
   "outputs": [
    {
     "data": {
      "text/plain": [
       "pct_bb_2017                 80.5\n",
       "pct_bb_2018                 79.1\n",
       "pct_bb_2019                 80.4\n",
       "pct_bb_2020                  NaN\n",
       "pct_bb_2021                  NaN\n",
       "cfips                     2261.0\n",
       "pct_college_2017            23.1\n",
       "pct_college_2018            19.0\n",
       "pct_college_2019            16.5\n",
       "pct_college_2020             NaN\n",
       "pct_college_2021             NaN\n",
       "pct_foreign_born_2017        4.9\n",
       "pct_foreign_born_2018        6.3\n",
       "pct_foreign_born_2019        6.6\n",
       "pct_foreign_born_2020        NaN\n",
       "pct_foreign_born_2021        NaN\n",
       "pct_it_workers_2017          3.3\n",
       "pct_it_workers_2018          3.9\n",
       "pct_it_workers_2019          5.3\n",
       "pct_it_workers_2020          NaN\n",
       "pct_it_workers_2021          NaN\n",
       "median_hh_inc_2017       86019.0\n",
       "median_hh_inc_2018       82306.0\n",
       "median_hh_inc_2019       79867.0\n",
       "median_hh_inc_2020           NaN\n",
       "median_hh_inc_2021           NaN\n",
       "Name: 92, dtype: float64"
      ]
     },
     "execution_count": 9,
     "metadata": {},
     "output_type": "execute_result"
    }
   ],
   "source": [
    "census[census['pct_bb_2020'].isna()].iloc[0]"
   ]
  },
  {
   "attachments": {},
   "cell_type": "markdown",
   "metadata": {},
   "source": [
    "CFIP #2261 has a lot of missing values and they are all from the later years. We may want to remove this CFIP id because its information is outdated and it seems as if the census just lost track of this county.\n",
    "\n",
    "Let's check if this CFIP id is in the raw dataset. If it is, we will need to use the outdated data. If it isn't, then we don't have to worry about this."
   ]
  },
  {
   "cell_type": "code",
   "execution_count": 10,
   "metadata": {},
   "outputs": [
    {
     "data": {
      "text/html": [
       "<div>\n",
       "<style scoped>\n",
       "    .dataframe tbody tr th:only-of-type {\n",
       "        vertical-align: middle;\n",
       "    }\n",
       "\n",
       "    .dataframe tbody tr th {\n",
       "        vertical-align: top;\n",
       "    }\n",
       "\n",
       "    .dataframe thead th {\n",
       "        text-align: right;\n",
       "    }\n",
       "</style>\n",
       "<table border=\"1\" class=\"dataframe\">\n",
       "  <thead>\n",
       "    <tr style=\"text-align: right;\">\n",
       "      <th></th>\n",
       "      <th>cfips</th>\n",
       "      <th>microbusiness_density</th>\n",
       "      <th>year</th>\n",
       "      <th>month</th>\n",
       "    </tr>\n",
       "  </thead>\n",
       "  <tbody>\n",
       "  </tbody>\n",
       "</table>\n",
       "</div>"
      ],
      "text/plain": [
       "Empty DataFrame\n",
       "Columns: [cfips, microbusiness_density, year, month]\n",
       "Index: []"
      ]
     },
     "execution_count": 10,
     "metadata": {},
     "output_type": "execute_result"
    }
   ],
   "source": [
    "raw[raw['cfips'] == 2261]"
   ]
  },
  {
   "attachments": {},
   "cell_type": "markdown",
   "metadata": {},
   "source": [
    "Since the raw data doesn't have this CFIP id, we don't need to worry about it... so we can remove it from the census data. In fact, we can remove all the CFIP id's that are in the census data but not in the raw dataset."
   ]
  },
  {
   "cell_type": "code",
   "execution_count": 11,
   "metadata": {},
   "outputs": [
    {
     "data": {
      "text/plain": [
       "[51690, 31117, 2158, 2261, 46102, 51640, 51580]"
      ]
     },
     "execution_count": 11,
     "metadata": {},
     "output_type": "execute_result"
    }
   ],
   "source": [
    "# Census data has more CFIP id's than the raw dataset\n",
    "set1 = set(raw['cfips'])\n",
    "set2 = set(census['cfips'])\n",
    "diff = list(set2 - set1)\n",
    "diff"
   ]
  },
  {
   "cell_type": "code",
   "execution_count": 12,
   "metadata": {},
   "outputs": [
    {
     "data": {
      "text/plain": [
       "[]"
      ]
     },
     "execution_count": 12,
     "metadata": {},
     "output_type": "execute_result"
    }
   ],
   "source": [
    "# Removing all of the uncommon CFIP id rows from census data\n",
    "for cfip in diff:\n",
    "  census.drop(census[census['cfips'] == cfip].index, inplace=True)\n",
    "\n",
    "# Checking that everything is removed\n",
    "set2 = set(census['cfips'])\n",
    "list(set2 - set1)"
   ]
  },
  {
   "cell_type": "code",
   "execution_count": 13,
   "metadata": {},
   "outputs": [
    {
     "data": {
      "text/plain": [
       "pct_bb_2017              0\n",
       "pct_bb_2018              0\n",
       "pct_bb_2019              0\n",
       "pct_bb_2020              0\n",
       "pct_bb_2021              0\n",
       "cfips                    0\n",
       "pct_college_2017         0\n",
       "pct_college_2018         0\n",
       "pct_college_2019         0\n",
       "pct_college_2020         0\n",
       "pct_college_2021         0\n",
       "pct_foreign_born_2017    0\n",
       "pct_foreign_born_2018    0\n",
       "pct_foreign_born_2019    0\n",
       "pct_foreign_born_2020    0\n",
       "pct_foreign_born_2021    0\n",
       "pct_it_workers_2017      0\n",
       "pct_it_workers_2018      1\n",
       "pct_it_workers_2019      0\n",
       "pct_it_workers_2020      0\n",
       "pct_it_workers_2021      0\n",
       "median_hh_inc_2017       0\n",
       "median_hh_inc_2018       1\n",
       "median_hh_inc_2019       0\n",
       "median_hh_inc_2020       1\n",
       "median_hh_inc_2021       1\n",
       "dtype: int64"
      ]
     },
     "execution_count": 13,
     "metadata": {},
     "output_type": "execute_result"
    }
   ],
   "source": [
    "census.isna().sum()"
   ]
  },
  {
   "attachments": {},
   "cell_type": "markdown",
   "metadata": {},
   "source": [
    "Let's find the other CFIP id(s) that still have missing values. Since they are still in the census data, they must also be in the raw data. \n",
    "\n",
    "We cannot remove this data because we need to provide predictions for every single CFIP id in the raw dataset (because the test dataset has the exact same CFIP id's). Thus, we must use imputation.\n",
    "\n",
    "In terms of imputation, we shouldn't we using any data that came out after the year of the missing value bceause that would reduce our model's ability to forecast into the future using past data. So, the simplest option is to set the missing value to the value determined by the census the year before."
   ]
  },
  {
   "cell_type": "code",
   "execution_count": 14,
   "metadata": {},
   "outputs": [
    {
     "data": {
      "text/plain": [
       "pct_bb_2017                 64.5\n",
       "pct_bb_2018                 72.7\n",
       "pct_bb_2019                 73.3\n",
       "pct_bb_2020                 96.8\n",
       "pct_bb_2021                 97.0\n",
       "cfips                    48301.0\n",
       "pct_college_2017             4.7\n",
       "pct_college_2018             0.0\n",
       "pct_college_2019             0.0\n",
       "pct_college_2020             0.0\n",
       "pct_college_2021             0.0\n",
       "pct_foreign_born_2017       10.8\n",
       "pct_foreign_born_2018       15.7\n",
       "pct_foreign_born_2019       12.2\n",
       "pct_foreign_born_2020        0.0\n",
       "pct_foreign_born_2021        1.2\n",
       "pct_it_workers_2017          0.0\n",
       "pct_it_workers_2018          0.0\n",
       "pct_it_workers_2019          0.0\n",
       "pct_it_workers_2020          0.0\n",
       "pct_it_workers_2021          0.0\n",
       "median_hh_inc_2017       80938.0\n",
       "median_hh_inc_2018       81875.0\n",
       "median_hh_inc_2019       83750.0\n",
       "median_hh_inc_2020       44076.0\n",
       "median_hh_inc_2021           NaN\n",
       "Name: 2673, dtype: float64"
      ]
     },
     "execution_count": 14,
     "metadata": {},
     "output_type": "execute_result"
    }
   ],
   "source": [
    "census[census['median_hh_inc_2021'].isna()].iloc[0]"
   ]
  },
  {
   "cell_type": "code",
   "execution_count": 15,
   "metadata": {},
   "outputs": [
    {
     "data": {
      "text/plain": [
       "2673    44076.0\n",
       "Name: median_hh_inc_2021, dtype: float64"
      ]
     },
     "execution_count": 15,
     "metadata": {},
     "output_type": "execute_result"
    }
   ],
   "source": [
    "# Setting 2021 feature value to the same value as 2020\n",
    "census.loc[census['cfips'] == 48301, 'median_hh_inc_2021'] = census.loc[census['cfips'] == 48301, 'median_hh_inc_2020']\n",
    "census.loc[census['cfips'] == 48301, 'median_hh_inc_2021']"
   ]
  },
  {
   "cell_type": "code",
   "execution_count": 16,
   "metadata": {},
   "outputs": [
    {
     "data": {
      "text/plain": [
       "pct_bb_2017                 66.3\n",
       "pct_bb_2018                 66.6\n",
       "pct_bb_2019                 61.2\n",
       "pct_bb_2020                 63.2\n",
       "pct_bb_2021                 70.1\n",
       "cfips                    48243.0\n",
       "pct_college_2017            18.4\n",
       "pct_college_2018            16.0\n",
       "pct_college_2019            10.8\n",
       "pct_college_2020            14.3\n",
       "pct_college_2021            10.9\n",
       "pct_foreign_born_2017       22.4\n",
       "pct_foreign_born_2018       14.9\n",
       "pct_foreign_born_2019       20.9\n",
       "pct_foreign_born_2020       10.1\n",
       "pct_foreign_born_2021       12.7\n",
       "pct_it_workers_2017          0.0\n",
       "pct_it_workers_2018          0.0\n",
       "pct_it_workers_2019          0.0\n",
       "pct_it_workers_2020          0.0\n",
       "pct_it_workers_2021          0.0\n",
       "median_hh_inc_2017       46534.0\n",
       "median_hh_inc_2018       53194.0\n",
       "median_hh_inc_2019       53088.0\n",
       "median_hh_inc_2020           NaN\n",
       "median_hh_inc_2021       38659.0\n",
       "Name: 2644, dtype: float64"
      ]
     },
     "execution_count": 16,
     "metadata": {},
     "output_type": "execute_result"
    }
   ],
   "source": [
    "missing_2 = census[census['median_hh_inc_2020'].isna()].iloc[0]\n",
    "missing_2"
   ]
  },
  {
   "cell_type": "code",
   "execution_count": 17,
   "metadata": {},
   "outputs": [
    {
     "data": {
      "text/plain": [
       "2644    53088.0\n",
       "Name: median_hh_inc_2020, dtype: float64"
      ]
     },
     "execution_count": 17,
     "metadata": {},
     "output_type": "execute_result"
    }
   ],
   "source": [
    "# Setting 2020 feature value to the same value as 2019\n",
    "census.loc[census['cfips'] == 48243, 'median_hh_inc_2020'] = census.loc[census['cfips'] == 48243, 'median_hh_inc_2019']\n",
    "census.loc[census['cfips'] == 48243, 'median_hh_inc_2020']"
   ]
  },
  {
   "cell_type": "code",
   "execution_count": 18,
   "metadata": {},
   "outputs": [
    {
     "data": {
      "text/plain": [
       "pct_bb_2017                 49.1\n",
       "pct_bb_2018                 52.1\n",
       "pct_bb_2019                 57.6\n",
       "pct_bb_2020                 60.7\n",
       "pct_bb_2021                 63.5\n",
       "cfips                    35039.0\n",
       "pct_college_2017            12.0\n",
       "pct_college_2018            12.5\n",
       "pct_college_2019            12.6\n",
       "pct_college_2020            10.6\n",
       "pct_college_2021            10.1\n",
       "pct_foreign_born_2017        4.5\n",
       "pct_foreign_born_2018        3.7\n",
       "pct_foreign_born_2019        4.2\n",
       "pct_foreign_born_2020        4.5\n",
       "pct_foreign_born_2021        4.8\n",
       "pct_it_workers_2017          0.8\n",
       "pct_it_workers_2018          NaN\n",
       "pct_it_workers_2019          0.8\n",
       "pct_it_workers_2020          0.4\n",
       "pct_it_workers_2021          0.7\n",
       "median_hh_inc_2017       33422.0\n",
       "median_hh_inc_2018           NaN\n",
       "median_hh_inc_2019       39952.0\n",
       "median_hh_inc_2020       42264.0\n",
       "median_hh_inc_2021       46994.0\n",
       "Name: 1816, dtype: float64"
      ]
     },
     "execution_count": 18,
     "metadata": {},
     "output_type": "execute_result"
    }
   ],
   "source": [
    "missing_3 = census[census['median_hh_inc_2018'].isna()].iloc[0]\n",
    "missing_3"
   ]
  },
  {
   "cell_type": "code",
   "execution_count": 19,
   "metadata": {},
   "outputs": [
    {
     "data": {
      "text/plain": [
       "1816    0.8\n",
       "Name: pct_it_workers_2018, dtype: float64"
      ]
     },
     "execution_count": 19,
     "metadata": {},
     "output_type": "execute_result"
    }
   ],
   "source": [
    "# Setting 2018 feature value to the same value as 2017\n",
    "census.loc[census['cfips'] == 35039, 'pct_it_workers_2018'] = census.loc[census['cfips'] == 35039, 'pct_it_workers_2017']\n",
    "census.loc[census['cfips'] == 35039, 'pct_it_workers_2018']"
   ]
  },
  {
   "cell_type": "code",
   "execution_count": 20,
   "metadata": {},
   "outputs": [
    {
     "data": {
      "text/plain": [
       "1816    33422.0\n",
       "Name: median_hh_inc_2018, dtype: float64"
      ]
     },
     "execution_count": 20,
     "metadata": {},
     "output_type": "execute_result"
    }
   ],
   "source": [
    "# Setting 2018 feature value to the same value as 2017\n",
    "census.loc[census['cfips'] == 35039, 'median_hh_inc_2018'] = census.loc[census['cfips'] == 35039, 'median_hh_inc_2017']\n",
    "census.loc[census['cfips'] == 35039, 'median_hh_inc_2018']"
   ]
  },
  {
   "attachments": {},
   "cell_type": "markdown",
   "metadata": {},
   "source": [
    "No more missing values in the census dataset I believe?"
   ]
  },
  {
   "cell_type": "code",
   "execution_count": 21,
   "metadata": {},
   "outputs": [
    {
     "data": {
      "text/plain": [
       "pct_bb_2017              0\n",
       "pct_bb_2018              0\n",
       "pct_bb_2019              0\n",
       "pct_bb_2020              0\n",
       "pct_bb_2021              0\n",
       "cfips                    0\n",
       "pct_college_2017         0\n",
       "pct_college_2018         0\n",
       "pct_college_2019         0\n",
       "pct_college_2020         0\n",
       "pct_college_2021         0\n",
       "pct_foreign_born_2017    0\n",
       "pct_foreign_born_2018    0\n",
       "pct_foreign_born_2019    0\n",
       "pct_foreign_born_2020    0\n",
       "pct_foreign_born_2021    0\n",
       "pct_it_workers_2017      0\n",
       "pct_it_workers_2018      0\n",
       "pct_it_workers_2019      0\n",
       "pct_it_workers_2020      0\n",
       "pct_it_workers_2021      0\n",
       "median_hh_inc_2017       0\n",
       "median_hh_inc_2018       0\n",
       "median_hh_inc_2019       0\n",
       "median_hh_inc_2020       0\n",
       "median_hh_inc_2021       0\n",
       "dtype: int64"
      ]
     },
     "execution_count": 21,
     "metadata": {},
     "output_type": "execute_result"
    }
   ],
   "source": [
    "census.isna().sum()"
   ]
  },
  {
   "attachments": {},
   "cell_type": "markdown",
   "metadata": {},
   "source": [
    "#### Convert Categorical Columns to Numerical\n",
    "\n",
    "All columns are already numerical."
   ]
  },
  {
   "cell_type": "code",
   "execution_count": 22,
   "metadata": {},
   "outputs": [
    {
     "data": {
      "text/plain": [
       "pct_bb_2017              float64\n",
       "pct_bb_2018              float64\n",
       "pct_bb_2019              float64\n",
       "pct_bb_2020              float64\n",
       "pct_bb_2021              float64\n",
       "cfips                      int64\n",
       "pct_college_2017         float64\n",
       "pct_college_2018         float64\n",
       "pct_college_2019         float64\n",
       "pct_college_2020         float64\n",
       "pct_college_2021         float64\n",
       "pct_foreign_born_2017    float64\n",
       "pct_foreign_born_2018    float64\n",
       "pct_foreign_born_2019    float64\n",
       "pct_foreign_born_2020    float64\n",
       "pct_foreign_born_2021    float64\n",
       "pct_it_workers_2017      float64\n",
       "pct_it_workers_2018      float64\n",
       "pct_it_workers_2019      float64\n",
       "pct_it_workers_2020      float64\n",
       "pct_it_workers_2021      float64\n",
       "median_hh_inc_2017         int64\n",
       "median_hh_inc_2018       float64\n",
       "median_hh_inc_2019         int64\n",
       "median_hh_inc_2020       float64\n",
       "median_hh_inc_2021       float64\n",
       "dtype: object"
      ]
     },
     "execution_count": 22,
     "metadata": {},
     "output_type": "execute_result"
    }
   ],
   "source": [
    "census.dtypes"
   ]
  },
  {
   "attachments": {},
   "cell_type": "markdown",
   "metadata": {},
   "source": [
    "### 3. Combine Census Data & Raw Data\n",
    "\n",
    "**IMPORTANT** - the census data has a 2-year lag because census data comes out 2 years after it has been collected. Thus, the 2017 census data should be used for the 2019 train data, the 2018 census data should be used for the 2020 train data, etc."
   ]
  },
  {
   "cell_type": "code",
   "execution_count": 23,
   "metadata": {},
   "outputs": [
    {
     "data": {
      "text/html": [
       "<div>\n",
       "<style scoped>\n",
       "    .dataframe tbody tr th:only-of-type {\n",
       "        vertical-align: middle;\n",
       "    }\n",
       "\n",
       "    .dataframe tbody tr th {\n",
       "        vertical-align: top;\n",
       "    }\n",
       "\n",
       "    .dataframe thead th {\n",
       "        text-align: right;\n",
       "    }\n",
       "</style>\n",
       "<table border=\"1\" class=\"dataframe\">\n",
       "  <thead>\n",
       "    <tr style=\"text-align: right;\">\n",
       "      <th></th>\n",
       "      <th>cfips</th>\n",
       "      <th>microbusiness_density</th>\n",
       "      <th>year</th>\n",
       "      <th>month</th>\n",
       "    </tr>\n",
       "  </thead>\n",
       "  <tbody>\n",
       "    <tr>\n",
       "      <th>0</th>\n",
       "      <td>1001</td>\n",
       "      <td>3.007682</td>\n",
       "      <td>2019</td>\n",
       "      <td>8</td>\n",
       "    </tr>\n",
       "    <tr>\n",
       "      <th>1</th>\n",
       "      <td>1001</td>\n",
       "      <td>2.884870</td>\n",
       "      <td>2019</td>\n",
       "      <td>9</td>\n",
       "    </tr>\n",
       "    <tr>\n",
       "      <th>2</th>\n",
       "      <td>1001</td>\n",
       "      <td>3.055843</td>\n",
       "      <td>2019</td>\n",
       "      <td>10</td>\n",
       "    </tr>\n",
       "    <tr>\n",
       "      <th>3</th>\n",
       "      <td>1001</td>\n",
       "      <td>2.993233</td>\n",
       "      <td>2019</td>\n",
       "      <td>11</td>\n",
       "    </tr>\n",
       "    <tr>\n",
       "      <th>4</th>\n",
       "      <td>1001</td>\n",
       "      <td>2.993233</td>\n",
       "      <td>2019</td>\n",
       "      <td>12</td>\n",
       "    </tr>\n",
       "  </tbody>\n",
       "</table>\n",
       "</div>"
      ],
      "text/plain": [
       "   cfips  microbusiness_density  year  month\n",
       "0   1001               3.007682  2019      8\n",
       "1   1001               2.884870  2019      9\n",
       "2   1001               3.055843  2019     10\n",
       "3   1001               2.993233  2019     11\n",
       "4   1001               2.993233  2019     12"
      ]
     },
     "execution_count": 23,
     "metadata": {},
     "output_type": "execute_result"
    }
   ],
   "source": [
    "raw.head()"
   ]
  },
  {
   "cell_type": "code",
   "execution_count": 24,
   "metadata": {},
   "outputs": [
    {
     "data": {
      "text/html": [
       "<div>\n",
       "<style scoped>\n",
       "    .dataframe tbody tr th:only-of-type {\n",
       "        vertical-align: middle;\n",
       "    }\n",
       "\n",
       "    .dataframe tbody tr th {\n",
       "        vertical-align: top;\n",
       "    }\n",
       "\n",
       "    .dataframe thead th {\n",
       "        text-align: right;\n",
       "    }\n",
       "</style>\n",
       "<table border=\"1\" class=\"dataframe\">\n",
       "  <thead>\n",
       "    <tr style=\"text-align: right;\">\n",
       "      <th></th>\n",
       "      <th>pct_bb_2017</th>\n",
       "      <th>pct_bb_2018</th>\n",
       "      <th>pct_bb_2019</th>\n",
       "      <th>pct_bb_2020</th>\n",
       "      <th>pct_bb_2021</th>\n",
       "      <th>cfips</th>\n",
       "      <th>pct_college_2017</th>\n",
       "      <th>pct_college_2018</th>\n",
       "      <th>pct_college_2019</th>\n",
       "      <th>pct_college_2020</th>\n",
       "      <th>...</th>\n",
       "      <th>pct_it_workers_2017</th>\n",
       "      <th>pct_it_workers_2018</th>\n",
       "      <th>pct_it_workers_2019</th>\n",
       "      <th>pct_it_workers_2020</th>\n",
       "      <th>pct_it_workers_2021</th>\n",
       "      <th>median_hh_inc_2017</th>\n",
       "      <th>median_hh_inc_2018</th>\n",
       "      <th>median_hh_inc_2019</th>\n",
       "      <th>median_hh_inc_2020</th>\n",
       "      <th>median_hh_inc_2021</th>\n",
       "    </tr>\n",
       "  </thead>\n",
       "  <tbody>\n",
       "    <tr>\n",
       "      <th>0</th>\n",
       "      <td>76.6</td>\n",
       "      <td>78.9</td>\n",
       "      <td>80.6</td>\n",
       "      <td>82.7</td>\n",
       "      <td>85.5</td>\n",
       "      <td>1001</td>\n",
       "      <td>14.5</td>\n",
       "      <td>15.9</td>\n",
       "      <td>16.1</td>\n",
       "      <td>16.7</td>\n",
       "      <td>...</td>\n",
       "      <td>1.3</td>\n",
       "      <td>1.1</td>\n",
       "      <td>0.7</td>\n",
       "      <td>0.6</td>\n",
       "      <td>1.1</td>\n",
       "      <td>55317</td>\n",
       "      <td>58786.0</td>\n",
       "      <td>58731</td>\n",
       "      <td>57982.0</td>\n",
       "      <td>62660.0</td>\n",
       "    </tr>\n",
       "    <tr>\n",
       "      <th>1</th>\n",
       "      <td>74.5</td>\n",
       "      <td>78.1</td>\n",
       "      <td>81.8</td>\n",
       "      <td>85.1</td>\n",
       "      <td>87.9</td>\n",
       "      <td>1003</td>\n",
       "      <td>20.4</td>\n",
       "      <td>20.7</td>\n",
       "      <td>21.0</td>\n",
       "      <td>20.2</td>\n",
       "      <td>...</td>\n",
       "      <td>1.4</td>\n",
       "      <td>1.3</td>\n",
       "      <td>1.4</td>\n",
       "      <td>1.0</td>\n",
       "      <td>1.3</td>\n",
       "      <td>52562</td>\n",
       "      <td>55962.0</td>\n",
       "      <td>58320</td>\n",
       "      <td>61756.0</td>\n",
       "      <td>64346.0</td>\n",
       "    </tr>\n",
       "    <tr>\n",
       "      <th>2</th>\n",
       "      <td>57.2</td>\n",
       "      <td>60.4</td>\n",
       "      <td>60.5</td>\n",
       "      <td>64.6</td>\n",
       "      <td>64.6</td>\n",
       "      <td>1005</td>\n",
       "      <td>7.6</td>\n",
       "      <td>7.8</td>\n",
       "      <td>7.6</td>\n",
       "      <td>7.3</td>\n",
       "      <td>...</td>\n",
       "      <td>0.5</td>\n",
       "      <td>0.3</td>\n",
       "      <td>0.8</td>\n",
       "      <td>1.1</td>\n",
       "      <td>0.8</td>\n",
       "      <td>33368</td>\n",
       "      <td>34186.0</td>\n",
       "      <td>32525</td>\n",
       "      <td>34990.0</td>\n",
       "      <td>36422.0</td>\n",
       "    </tr>\n",
       "    <tr>\n",
       "      <th>3</th>\n",
       "      <td>62.0</td>\n",
       "      <td>66.1</td>\n",
       "      <td>69.2</td>\n",
       "      <td>76.1</td>\n",
       "      <td>74.6</td>\n",
       "      <td>1007</td>\n",
       "      <td>8.1</td>\n",
       "      <td>7.6</td>\n",
       "      <td>6.5</td>\n",
       "      <td>7.4</td>\n",
       "      <td>...</td>\n",
       "      <td>1.2</td>\n",
       "      <td>1.4</td>\n",
       "      <td>1.6</td>\n",
       "      <td>1.7</td>\n",
       "      <td>2.1</td>\n",
       "      <td>43404</td>\n",
       "      <td>45340.0</td>\n",
       "      <td>47542</td>\n",
       "      <td>51721.0</td>\n",
       "      <td>54277.0</td>\n",
       "    </tr>\n",
       "    <tr>\n",
       "      <th>4</th>\n",
       "      <td>65.8</td>\n",
       "      <td>68.5</td>\n",
       "      <td>73.0</td>\n",
       "      <td>79.6</td>\n",
       "      <td>81.0</td>\n",
       "      <td>1009</td>\n",
       "      <td>8.7</td>\n",
       "      <td>8.1</td>\n",
       "      <td>8.6</td>\n",
       "      <td>8.9</td>\n",
       "      <td>...</td>\n",
       "      <td>1.3</td>\n",
       "      <td>1.4</td>\n",
       "      <td>0.9</td>\n",
       "      <td>1.1</td>\n",
       "      <td>0.9</td>\n",
       "      <td>47412</td>\n",
       "      <td>48695.0</td>\n",
       "      <td>49358</td>\n",
       "      <td>48922.0</td>\n",
       "      <td>52830.0</td>\n",
       "    </tr>\n",
       "  </tbody>\n",
       "</table>\n",
       "<p>5 rows × 26 columns</p>\n",
       "</div>"
      ],
      "text/plain": [
       "   pct_bb_2017  pct_bb_2018  pct_bb_2019  pct_bb_2020  pct_bb_2021  cfips  \\\n",
       "0         76.6         78.9         80.6         82.7         85.5   1001   \n",
       "1         74.5         78.1         81.8         85.1         87.9   1003   \n",
       "2         57.2         60.4         60.5         64.6         64.6   1005   \n",
       "3         62.0         66.1         69.2         76.1         74.6   1007   \n",
       "4         65.8         68.5         73.0         79.6         81.0   1009   \n",
       "\n",
       "   pct_college_2017  pct_college_2018  pct_college_2019  pct_college_2020  \\\n",
       "0              14.5              15.9              16.1              16.7   \n",
       "1              20.4              20.7              21.0              20.2   \n",
       "2               7.6               7.8               7.6               7.3   \n",
       "3               8.1               7.6               6.5               7.4   \n",
       "4               8.7               8.1               8.6               8.9   \n",
       "\n",
       "   ...  pct_it_workers_2017  pct_it_workers_2018  pct_it_workers_2019  \\\n",
       "0  ...                  1.3                  1.1                  0.7   \n",
       "1  ...                  1.4                  1.3                  1.4   \n",
       "2  ...                  0.5                  0.3                  0.8   \n",
       "3  ...                  1.2                  1.4                  1.6   \n",
       "4  ...                  1.3                  1.4                  0.9   \n",
       "\n",
       "   pct_it_workers_2020  pct_it_workers_2021  median_hh_inc_2017  \\\n",
       "0                  0.6                  1.1               55317   \n",
       "1                  1.0                  1.3               52562   \n",
       "2                  1.1                  0.8               33368   \n",
       "3                  1.7                  2.1               43404   \n",
       "4                  1.1                  0.9               47412   \n",
       "\n",
       "   median_hh_inc_2018  median_hh_inc_2019  median_hh_inc_2020  \\\n",
       "0             58786.0               58731             57982.0   \n",
       "1             55962.0               58320             61756.0   \n",
       "2             34186.0               32525             34990.0   \n",
       "3             45340.0               47542             51721.0   \n",
       "4             48695.0               49358             48922.0   \n",
       "\n",
       "   median_hh_inc_2021  \n",
       "0             62660.0  \n",
       "1             64346.0  \n",
       "2             36422.0  \n",
       "3             54277.0  \n",
       "4             52830.0  \n",
       "\n",
       "[5 rows x 26 columns]"
      ]
     },
     "execution_count": 24,
     "metadata": {},
     "output_type": "execute_result"
    }
   ],
   "source": [
    "census.head()"
   ]
  },
  {
   "cell_type": "code",
   "execution_count": 25,
   "metadata": {},
   "outputs": [],
   "source": [
    "def getStats(cfip, year):\n",
    "  '''\n",
    "  The function uses a `cfip` ID for a county and the `year` to be able to\n",
    "  find census statistics.\n",
    "  '''\n",
    "  dif = year - 2019 # accounting for the 2-year lag\n",
    "  index = [dif, dif + 6, dif + 11, dif + 16, dif + 21]\n",
    "  return census[census['cfips'] == cfip].iloc[0][index]"
   ]
  },
  {
   "cell_type": "code",
   "execution_count": 26,
   "metadata": {},
   "outputs": [
    {
     "name": "stderr",
     "output_type": "stream",
     "text": [
      "c:\\Users\\Mohit\\anaconda3\\lib\\site-packages\\pandas\\core\\indexing.py:1732: SettingWithCopyWarning: \n",
      "A value is trying to be set on a copy of a slice from a DataFrame\n",
      "\n",
      "See the caveats in the documentation: https://pandas.pydata.org/pandas-docs/stable/user_guide/indexing.html#returning-a-view-versus-a-copy\n",
      "  self._setitem_single_block(indexer, value, name)\n"
     ]
    },
    {
     "name": "stdout",
     "output_type": "stream",
     "text": [
      "#0 row processed in 0.01 seconds\n",
      "#10000 row processed in 18.66 seconds\n",
      "#20000 row processed in 21.10 seconds\n",
      "#30000 row processed in 18.77 seconds\n",
      "#40000 row processed in 18.45 seconds\n",
      "#50000 row processed in 27.68 seconds\n",
      "#60000 row processed in 25.37 seconds\n",
      "#70000 row processed in 21.36 seconds\n",
      "#80000 row processed in 20.49 seconds\n",
      "#90000 row processed in 18.95 seconds\n",
      "#100000 row processed in 18.37 seconds\n",
      "#110000 row processed in 18.50 seconds\n",
      "#120000 row processed in 18.24 seconds\n",
      "Processing Completed!\n"
     ]
    }
   ],
   "source": [
    "# Adding census-specific columns to train dataset\n",
    "census_columns = ['broadband_access_pct', \n",
    "                  'college_degree_pct', \n",
    "                  'foreign_born_pct', \n",
    "                  'it_workers_pct', \n",
    "                  'median_household_income']\n",
    "raw = raw.reindex(columns=raw.columns.tolist() + census_columns)\n",
    "\n",
    "start = time.time()\n",
    "\n",
    "# Running through all the data rows and imputing census data based on cfip ID and year\n",
    "for i in range(len(raw)):\n",
    "  cfip = raw['cfips'][i]\n",
    "  year = raw['year'][i]\n",
    "  stats = getStats(cfip, year)\n",
    "    \n",
    "  raw['broadband_access_pct'].iloc[i] = stats[0]\n",
    "  raw['college_degree_pct'].iloc[i] = stats[1]\n",
    "  raw['foreign_born_pct'].iloc[i] = stats[2]\n",
    "  raw['it_workers_pct'].iloc[i] = stats[3]\n",
    "  raw['median_household_income'].iloc[i] = stats[4]\n",
    "  \n",
    "  if (i % 10000 == 0):\n",
    "    end = time.time()\n",
    "    print(f'#{i} row processed in {(end - start):.2f} seconds')\n",
    "    start = time.time()\n",
    "    \n",
    "print('Processing Completed!')"
   ]
  },
  {
   "cell_type": "code",
   "execution_count": 27,
   "metadata": {},
   "outputs": [
    {
     "data": {
      "text/html": [
       "<div>\n",
       "<style scoped>\n",
       "    .dataframe tbody tr th:only-of-type {\n",
       "        vertical-align: middle;\n",
       "    }\n",
       "\n",
       "    .dataframe tbody tr th {\n",
       "        vertical-align: top;\n",
       "    }\n",
       "\n",
       "    .dataframe thead th {\n",
       "        text-align: right;\n",
       "    }\n",
       "</style>\n",
       "<table border=\"1\" class=\"dataframe\">\n",
       "  <thead>\n",
       "    <tr style=\"text-align: right;\">\n",
       "      <th></th>\n",
       "      <th>cfips</th>\n",
       "      <th>microbusiness_density</th>\n",
       "      <th>year</th>\n",
       "      <th>month</th>\n",
       "      <th>broadband_access_pct</th>\n",
       "      <th>college_degree_pct</th>\n",
       "      <th>foreign_born_pct</th>\n",
       "      <th>it_workers_pct</th>\n",
       "      <th>median_household_income</th>\n",
       "    </tr>\n",
       "  </thead>\n",
       "  <tbody>\n",
       "    <tr>\n",
       "      <th>0</th>\n",
       "      <td>1001</td>\n",
       "      <td>3.007682</td>\n",
       "      <td>2019</td>\n",
       "      <td>8</td>\n",
       "      <td>76.6</td>\n",
       "      <td>14.5</td>\n",
       "      <td>2.1</td>\n",
       "      <td>1.3</td>\n",
       "      <td>55317.0</td>\n",
       "    </tr>\n",
       "    <tr>\n",
       "      <th>1</th>\n",
       "      <td>1001</td>\n",
       "      <td>2.884870</td>\n",
       "      <td>2019</td>\n",
       "      <td>9</td>\n",
       "      <td>76.6</td>\n",
       "      <td>14.5</td>\n",
       "      <td>2.1</td>\n",
       "      <td>1.3</td>\n",
       "      <td>55317.0</td>\n",
       "    </tr>\n",
       "    <tr>\n",
       "      <th>2</th>\n",
       "      <td>1001</td>\n",
       "      <td>3.055843</td>\n",
       "      <td>2019</td>\n",
       "      <td>10</td>\n",
       "      <td>76.6</td>\n",
       "      <td>14.5</td>\n",
       "      <td>2.1</td>\n",
       "      <td>1.3</td>\n",
       "      <td>55317.0</td>\n",
       "    </tr>\n",
       "    <tr>\n",
       "      <th>3</th>\n",
       "      <td>1001</td>\n",
       "      <td>2.993233</td>\n",
       "      <td>2019</td>\n",
       "      <td>11</td>\n",
       "      <td>76.6</td>\n",
       "      <td>14.5</td>\n",
       "      <td>2.1</td>\n",
       "      <td>1.3</td>\n",
       "      <td>55317.0</td>\n",
       "    </tr>\n",
       "    <tr>\n",
       "      <th>4</th>\n",
       "      <td>1001</td>\n",
       "      <td>2.993233</td>\n",
       "      <td>2019</td>\n",
       "      <td>12</td>\n",
       "      <td>76.6</td>\n",
       "      <td>14.5</td>\n",
       "      <td>2.1</td>\n",
       "      <td>1.3</td>\n",
       "      <td>55317.0</td>\n",
       "    </tr>\n",
       "    <tr>\n",
       "      <th>5</th>\n",
       "      <td>1001</td>\n",
       "      <td>2.969090</td>\n",
       "      <td>2020</td>\n",
       "      <td>1</td>\n",
       "      <td>78.9</td>\n",
       "      <td>15.9</td>\n",
       "      <td>2.0</td>\n",
       "      <td>1.1</td>\n",
       "      <td>58786.0</td>\n",
       "    </tr>\n",
       "    <tr>\n",
       "      <th>6</th>\n",
       "      <td>1001</td>\n",
       "      <td>2.909326</td>\n",
       "      <td>2020</td>\n",
       "      <td>2</td>\n",
       "      <td>78.9</td>\n",
       "      <td>15.9</td>\n",
       "      <td>2.0</td>\n",
       "      <td>1.1</td>\n",
       "      <td>58786.0</td>\n",
       "    </tr>\n",
       "    <tr>\n",
       "      <th>7</th>\n",
       "      <td>1001</td>\n",
       "      <td>2.933231</td>\n",
       "      <td>2020</td>\n",
       "      <td>3</td>\n",
       "      <td>78.9</td>\n",
       "      <td>15.9</td>\n",
       "      <td>2.0</td>\n",
       "      <td>1.1</td>\n",
       "      <td>58786.0</td>\n",
       "    </tr>\n",
       "    <tr>\n",
       "      <th>8</th>\n",
       "      <td>1001</td>\n",
       "      <td>3.000167</td>\n",
       "      <td>2020</td>\n",
       "      <td>4</td>\n",
       "      <td>78.9</td>\n",
       "      <td>15.9</td>\n",
       "      <td>2.0</td>\n",
       "      <td>1.1</td>\n",
       "      <td>58786.0</td>\n",
       "    </tr>\n",
       "    <tr>\n",
       "      <th>9</th>\n",
       "      <td>1001</td>\n",
       "      <td>3.004948</td>\n",
       "      <td>2020</td>\n",
       "      <td>5</td>\n",
       "      <td>78.9</td>\n",
       "      <td>15.9</td>\n",
       "      <td>2.0</td>\n",
       "      <td>1.1</td>\n",
       "      <td>58786.0</td>\n",
       "    </tr>\n",
       "    <tr>\n",
       "      <th>10</th>\n",
       "      <td>1001</td>\n",
       "      <td>3.019292</td>\n",
       "      <td>2020</td>\n",
       "      <td>6</td>\n",
       "      <td>78.9</td>\n",
       "      <td>15.9</td>\n",
       "      <td>2.0</td>\n",
       "      <td>1.1</td>\n",
       "      <td>58786.0</td>\n",
       "    </tr>\n",
       "    <tr>\n",
       "      <th>11</th>\n",
       "      <td>1001</td>\n",
       "      <td>3.083837</td>\n",
       "      <td>2020</td>\n",
       "      <td>7</td>\n",
       "      <td>78.9</td>\n",
       "      <td>15.9</td>\n",
       "      <td>2.0</td>\n",
       "      <td>1.1</td>\n",
       "      <td>58786.0</td>\n",
       "    </tr>\n",
       "    <tr>\n",
       "      <th>12</th>\n",
       "      <td>1001</td>\n",
       "      <td>3.174679</td>\n",
       "      <td>2020</td>\n",
       "      <td>8</td>\n",
       "      <td>78.9</td>\n",
       "      <td>15.9</td>\n",
       "      <td>2.0</td>\n",
       "      <td>1.1</td>\n",
       "      <td>58786.0</td>\n",
       "    </tr>\n",
       "    <tr>\n",
       "      <th>13</th>\n",
       "      <td>1001</td>\n",
       "      <td>3.205756</td>\n",
       "      <td>2020</td>\n",
       "      <td>9</td>\n",
       "      <td>78.9</td>\n",
       "      <td>15.9</td>\n",
       "      <td>2.0</td>\n",
       "      <td>1.1</td>\n",
       "      <td>58786.0</td>\n",
       "    </tr>\n",
       "    <tr>\n",
       "      <th>14</th>\n",
       "      <td>1001</td>\n",
       "      <td>3.193804</td>\n",
       "      <td>2020</td>\n",
       "      <td>10</td>\n",
       "      <td>78.9</td>\n",
       "      <td>15.9</td>\n",
       "      <td>2.0</td>\n",
       "      <td>1.1</td>\n",
       "      <td>58786.0</td>\n",
       "    </tr>\n",
       "    <tr>\n",
       "      <th>15</th>\n",
       "      <td>1001</td>\n",
       "      <td>3.038416</td>\n",
       "      <td>2020</td>\n",
       "      <td>11</td>\n",
       "      <td>78.9</td>\n",
       "      <td>15.9</td>\n",
       "      <td>2.0</td>\n",
       "      <td>1.1</td>\n",
       "      <td>58786.0</td>\n",
       "    </tr>\n",
       "    <tr>\n",
       "      <th>16</th>\n",
       "      <td>1001</td>\n",
       "      <td>3.002558</td>\n",
       "      <td>2020</td>\n",
       "      <td>12</td>\n",
       "      <td>78.9</td>\n",
       "      <td>15.9</td>\n",
       "      <td>2.0</td>\n",
       "      <td>1.1</td>\n",
       "      <td>58786.0</td>\n",
       "    </tr>\n",
       "    <tr>\n",
       "      <th>17</th>\n",
       "      <td>1001</td>\n",
       "      <td>2.947244</td>\n",
       "      <td>2021</td>\n",
       "      <td>1</td>\n",
       "      <td>80.6</td>\n",
       "      <td>16.1</td>\n",
       "      <td>2.3</td>\n",
       "      <td>0.7</td>\n",
       "      <td>58731.0</td>\n",
       "    </tr>\n",
       "    <tr>\n",
       "      <th>18</th>\n",
       "      <td>1001</td>\n",
       "      <td>3.106106</td>\n",
       "      <td>2021</td>\n",
       "      <td>2</td>\n",
       "      <td>80.6</td>\n",
       "      <td>16.1</td>\n",
       "      <td>2.3</td>\n",
       "      <td>0.7</td>\n",
       "      <td>58731.0</td>\n",
       "    </tr>\n",
       "    <tr>\n",
       "      <th>19</th>\n",
       "      <td>1001</td>\n",
       "      <td>3.144043</td>\n",
       "      <td>2021</td>\n",
       "      <td>3</td>\n",
       "      <td>80.6</td>\n",
       "      <td>16.1</td>\n",
       "      <td>2.3</td>\n",
       "      <td>0.7</td>\n",
       "      <td>58731.0</td>\n",
       "    </tr>\n",
       "    <tr>\n",
       "      <th>20</th>\n",
       "      <td>1001</td>\n",
       "      <td>3.224659</td>\n",
       "      <td>2021</td>\n",
       "      <td>4</td>\n",
       "      <td>80.6</td>\n",
       "      <td>16.1</td>\n",
       "      <td>2.3</td>\n",
       "      <td>0.7</td>\n",
       "      <td>58731.0</td>\n",
       "    </tr>\n",
       "    <tr>\n",
       "      <th>21</th>\n",
       "      <td>1001</td>\n",
       "      <td>3.227030</td>\n",
       "      <td>2021</td>\n",
       "      <td>5</td>\n",
       "      <td>80.6</td>\n",
       "      <td>16.1</td>\n",
       "      <td>2.3</td>\n",
       "      <td>0.7</td>\n",
       "      <td>58731.0</td>\n",
       "    </tr>\n",
       "    <tr>\n",
       "      <th>22</th>\n",
       "      <td>1001</td>\n",
       "      <td>3.222288</td>\n",
       "      <td>2021</td>\n",
       "      <td>6</td>\n",
       "      <td>80.6</td>\n",
       "      <td>16.1</td>\n",
       "      <td>2.3</td>\n",
       "      <td>0.7</td>\n",
       "      <td>58731.0</td>\n",
       "    </tr>\n",
       "    <tr>\n",
       "      <th>23</th>\n",
       "      <td>1001</td>\n",
       "      <td>3.210433</td>\n",
       "      <td>2021</td>\n",
       "      <td>7</td>\n",
       "      <td>80.6</td>\n",
       "      <td>16.1</td>\n",
       "      <td>2.3</td>\n",
       "      <td>0.7</td>\n",
       "      <td>58731.0</td>\n",
       "    </tr>\n",
       "    <tr>\n",
       "      <th>24</th>\n",
       "      <td>1001</td>\n",
       "      <td>3.219917</td>\n",
       "      <td>2021</td>\n",
       "      <td>8</td>\n",
       "      <td>80.6</td>\n",
       "      <td>16.1</td>\n",
       "      <td>2.3</td>\n",
       "      <td>0.7</td>\n",
       "      <td>58731.0</td>\n",
       "    </tr>\n",
       "    <tr>\n",
       "      <th>25</th>\n",
       "      <td>1001</td>\n",
       "      <td>3.186722</td>\n",
       "      <td>2021</td>\n",
       "      <td>9</td>\n",
       "      <td>80.6</td>\n",
       "      <td>16.1</td>\n",
       "      <td>2.3</td>\n",
       "      <td>0.7</td>\n",
       "      <td>58731.0</td>\n",
       "    </tr>\n",
       "    <tr>\n",
       "      <th>26</th>\n",
       "      <td>1001</td>\n",
       "      <td>3.203320</td>\n",
       "      <td>2021</td>\n",
       "      <td>10</td>\n",
       "      <td>80.6</td>\n",
       "      <td>16.1</td>\n",
       "      <td>2.3</td>\n",
       "      <td>0.7</td>\n",
       "      <td>58731.0</td>\n",
       "    </tr>\n",
       "    <tr>\n",
       "      <th>27</th>\n",
       "      <td>1001</td>\n",
       "      <td>3.200948</td>\n",
       "      <td>2021</td>\n",
       "      <td>11</td>\n",
       "      <td>80.6</td>\n",
       "      <td>16.1</td>\n",
       "      <td>2.3</td>\n",
       "      <td>0.7</td>\n",
       "      <td>58731.0</td>\n",
       "    </tr>\n",
       "    <tr>\n",
       "      <th>28</th>\n",
       "      <td>1001</td>\n",
       "      <td>3.286307</td>\n",
       "      <td>2021</td>\n",
       "      <td>12</td>\n",
       "      <td>80.6</td>\n",
       "      <td>16.1</td>\n",
       "      <td>2.3</td>\n",
       "      <td>0.7</td>\n",
       "      <td>58731.0</td>\n",
       "    </tr>\n",
       "    <tr>\n",
       "      <th>29</th>\n",
       "      <td>1001</td>\n",
       "      <td>3.296781</td>\n",
       "      <td>2022</td>\n",
       "      <td>1</td>\n",
       "      <td>82.7</td>\n",
       "      <td>16.7</td>\n",
       "      <td>2.3</td>\n",
       "      <td>0.6</td>\n",
       "      <td>57982.0</td>\n",
       "    </tr>\n",
       "  </tbody>\n",
       "</table>\n",
       "</div>"
      ],
      "text/plain": [
       "    cfips  microbusiness_density  year  month  broadband_access_pct  \\\n",
       "0    1001               3.007682  2019      8                  76.6   \n",
       "1    1001               2.884870  2019      9                  76.6   \n",
       "2    1001               3.055843  2019     10                  76.6   \n",
       "3    1001               2.993233  2019     11                  76.6   \n",
       "4    1001               2.993233  2019     12                  76.6   \n",
       "5    1001               2.969090  2020      1                  78.9   \n",
       "6    1001               2.909326  2020      2                  78.9   \n",
       "7    1001               2.933231  2020      3                  78.9   \n",
       "8    1001               3.000167  2020      4                  78.9   \n",
       "9    1001               3.004948  2020      5                  78.9   \n",
       "10   1001               3.019292  2020      6                  78.9   \n",
       "11   1001               3.083837  2020      7                  78.9   \n",
       "12   1001               3.174679  2020      8                  78.9   \n",
       "13   1001               3.205756  2020      9                  78.9   \n",
       "14   1001               3.193804  2020     10                  78.9   \n",
       "15   1001               3.038416  2020     11                  78.9   \n",
       "16   1001               3.002558  2020     12                  78.9   \n",
       "17   1001               2.947244  2021      1                  80.6   \n",
       "18   1001               3.106106  2021      2                  80.6   \n",
       "19   1001               3.144043  2021      3                  80.6   \n",
       "20   1001               3.224659  2021      4                  80.6   \n",
       "21   1001               3.227030  2021      5                  80.6   \n",
       "22   1001               3.222288  2021      6                  80.6   \n",
       "23   1001               3.210433  2021      7                  80.6   \n",
       "24   1001               3.219917  2021      8                  80.6   \n",
       "25   1001               3.186722  2021      9                  80.6   \n",
       "26   1001               3.203320  2021     10                  80.6   \n",
       "27   1001               3.200948  2021     11                  80.6   \n",
       "28   1001               3.286307  2021     12                  80.6   \n",
       "29   1001               3.296781  2022      1                  82.7   \n",
       "\n",
       "    college_degree_pct  foreign_born_pct  it_workers_pct  \\\n",
       "0                 14.5               2.1             1.3   \n",
       "1                 14.5               2.1             1.3   \n",
       "2                 14.5               2.1             1.3   \n",
       "3                 14.5               2.1             1.3   \n",
       "4                 14.5               2.1             1.3   \n",
       "5                 15.9               2.0             1.1   \n",
       "6                 15.9               2.0             1.1   \n",
       "7                 15.9               2.0             1.1   \n",
       "8                 15.9               2.0             1.1   \n",
       "9                 15.9               2.0             1.1   \n",
       "10                15.9               2.0             1.1   \n",
       "11                15.9               2.0             1.1   \n",
       "12                15.9               2.0             1.1   \n",
       "13                15.9               2.0             1.1   \n",
       "14                15.9               2.0             1.1   \n",
       "15                15.9               2.0             1.1   \n",
       "16                15.9               2.0             1.1   \n",
       "17                16.1               2.3             0.7   \n",
       "18                16.1               2.3             0.7   \n",
       "19                16.1               2.3             0.7   \n",
       "20                16.1               2.3             0.7   \n",
       "21                16.1               2.3             0.7   \n",
       "22                16.1               2.3             0.7   \n",
       "23                16.1               2.3             0.7   \n",
       "24                16.1               2.3             0.7   \n",
       "25                16.1               2.3             0.7   \n",
       "26                16.1               2.3             0.7   \n",
       "27                16.1               2.3             0.7   \n",
       "28                16.1               2.3             0.7   \n",
       "29                16.7               2.3             0.6   \n",
       "\n",
       "    median_household_income  \n",
       "0                   55317.0  \n",
       "1                   55317.0  \n",
       "2                   55317.0  \n",
       "3                   55317.0  \n",
       "4                   55317.0  \n",
       "5                   58786.0  \n",
       "6                   58786.0  \n",
       "7                   58786.0  \n",
       "8                   58786.0  \n",
       "9                   58786.0  \n",
       "10                  58786.0  \n",
       "11                  58786.0  \n",
       "12                  58786.0  \n",
       "13                  58786.0  \n",
       "14                  58786.0  \n",
       "15                  58786.0  \n",
       "16                  58786.0  \n",
       "17                  58731.0  \n",
       "18                  58731.0  \n",
       "19                  58731.0  \n",
       "20                  58731.0  \n",
       "21                  58731.0  \n",
       "22                  58731.0  \n",
       "23                  58731.0  \n",
       "24                  58731.0  \n",
       "25                  58731.0  \n",
       "26                  58731.0  \n",
       "27                  58731.0  \n",
       "28                  58731.0  \n",
       "29                  57982.0  "
      ]
     },
     "execution_count": 27,
     "metadata": {},
     "output_type": "execute_result"
    }
   ],
   "source": [
    "raw[0:30]"
   ]
  },
  {
   "cell_type": "code",
   "execution_count": 28,
   "metadata": {},
   "outputs": [],
   "source": [
    "raw.to_csv('data/train_census_combined.csv')"
   ]
  },
  {
   "attachments": {},
   "cell_type": "markdown",
   "metadata": {},
   "source": [
    "# Feature Importance\n",
    "1. Train RandomForestRegressor on all of the raw dataset\n",
    "2. Graph feature importance"
   ]
  },
  {
   "attachments": {},
   "cell_type": "markdown",
   "metadata": {},
   "source": [
    "### 1. Train RandomForestRegressor on all Data"
   ]
  },
  {
   "cell_type": "code",
   "execution_count": 29,
   "metadata": {},
   "outputs": [
    {
     "data": {
      "text/html": [
       "<style>#sk-container-id-1 {color: black;background-color: white;}#sk-container-id-1 pre{padding: 0;}#sk-container-id-1 div.sk-toggleable {background-color: white;}#sk-container-id-1 label.sk-toggleable__label {cursor: pointer;display: block;width: 100%;margin-bottom: 0;padding: 0.3em;box-sizing: border-box;text-align: center;}#sk-container-id-1 label.sk-toggleable__label-arrow:before {content: \"▸\";float: left;margin-right: 0.25em;color: #696969;}#sk-container-id-1 label.sk-toggleable__label-arrow:hover:before {color: black;}#sk-container-id-1 div.sk-estimator:hover label.sk-toggleable__label-arrow:before {color: black;}#sk-container-id-1 div.sk-toggleable__content {max-height: 0;max-width: 0;overflow: hidden;text-align: left;background-color: #f0f8ff;}#sk-container-id-1 div.sk-toggleable__content pre {margin: 0.2em;color: black;border-radius: 0.25em;background-color: #f0f8ff;}#sk-container-id-1 input.sk-toggleable__control:checked~div.sk-toggleable__content {max-height: 200px;max-width: 100%;overflow: auto;}#sk-container-id-1 input.sk-toggleable__control:checked~label.sk-toggleable__label-arrow:before {content: \"▾\";}#sk-container-id-1 div.sk-estimator input.sk-toggleable__control:checked~label.sk-toggleable__label {background-color: #d4ebff;}#sk-container-id-1 div.sk-label input.sk-toggleable__control:checked~label.sk-toggleable__label {background-color: #d4ebff;}#sk-container-id-1 input.sk-hidden--visually {border: 0;clip: rect(1px 1px 1px 1px);clip: rect(1px, 1px, 1px, 1px);height: 1px;margin: -1px;overflow: hidden;padding: 0;position: absolute;width: 1px;}#sk-container-id-1 div.sk-estimator {font-family: monospace;background-color: #f0f8ff;border: 1px dotted black;border-radius: 0.25em;box-sizing: border-box;margin-bottom: 0.5em;}#sk-container-id-1 div.sk-estimator:hover {background-color: #d4ebff;}#sk-container-id-1 div.sk-parallel-item::after {content: \"\";width: 100%;border-bottom: 1px solid gray;flex-grow: 1;}#sk-container-id-1 div.sk-label:hover label.sk-toggleable__label {background-color: #d4ebff;}#sk-container-id-1 div.sk-serial::before {content: \"\";position: absolute;border-left: 1px solid gray;box-sizing: border-box;top: 0;bottom: 0;left: 50%;z-index: 0;}#sk-container-id-1 div.sk-serial {display: flex;flex-direction: column;align-items: center;background-color: white;padding-right: 0.2em;padding-left: 0.2em;position: relative;}#sk-container-id-1 div.sk-item {position: relative;z-index: 1;}#sk-container-id-1 div.sk-parallel {display: flex;align-items: stretch;justify-content: center;background-color: white;position: relative;}#sk-container-id-1 div.sk-item::before, #sk-container-id-1 div.sk-parallel-item::before {content: \"\";position: absolute;border-left: 1px solid gray;box-sizing: border-box;top: 0;bottom: 0;left: 50%;z-index: -1;}#sk-container-id-1 div.sk-parallel-item {display: flex;flex-direction: column;z-index: 1;position: relative;background-color: white;}#sk-container-id-1 div.sk-parallel-item:first-child::after {align-self: flex-end;width: 50%;}#sk-container-id-1 div.sk-parallel-item:last-child::after {align-self: flex-start;width: 50%;}#sk-container-id-1 div.sk-parallel-item:only-child::after {width: 0;}#sk-container-id-1 div.sk-dashed-wrapped {border: 1px dashed gray;margin: 0 0.4em 0.5em 0.4em;box-sizing: border-box;padding-bottom: 0.4em;background-color: white;}#sk-container-id-1 div.sk-label label {font-family: monospace;font-weight: bold;display: inline-block;line-height: 1.2em;}#sk-container-id-1 div.sk-label-container {text-align: center;}#sk-container-id-1 div.sk-container {/* jupyter's `normalize.less` sets `[hidden] { display: none; }` but bootstrap.min.css set `[hidden] { display: none !important; }` so we also need the `!important` here to be able to override the default hidden behavior on the sphinx rendered scikit-learn.org. See: https://github.com/scikit-learn/scikit-learn/issues/21755 */display: inline-block !important;position: relative;}#sk-container-id-1 div.sk-text-repr-fallback {display: none;}</style><div id=\"sk-container-id-1\" class=\"sk-top-container\"><div class=\"sk-text-repr-fallback\"><pre>RandomForestRegressor()</pre><b>In a Jupyter environment, please rerun this cell to show the HTML representation or trust the notebook. <br />On GitHub, the HTML representation is unable to render, please try loading this page with nbviewer.org.</b></div><div class=\"sk-container\" hidden><div class=\"sk-item\"><div class=\"sk-estimator sk-toggleable\"><input class=\"sk-toggleable__control sk-hidden--visually\" id=\"sk-estimator-id-1\" type=\"checkbox\" checked><label for=\"sk-estimator-id-1\" class=\"sk-toggleable__label sk-toggleable__label-arrow\">RandomForestRegressor</label><div class=\"sk-toggleable__content\"><pre>RandomForestRegressor()</pre></div></div></div></div></div>"
      ],
      "text/plain": [
       "RandomForestRegressor()"
      ]
     },
     "execution_count": 29,
     "metadata": {},
     "output_type": "execute_result"
    }
   ],
   "source": [
    "rf = RandomForestRegressor()\n",
    "rf.fit(raw.drop('microbusiness_density', axis=1), raw['microbusiness_density'])"
   ]
  },
  {
   "cell_type": "code",
   "execution_count": 70,
   "metadata": {},
   "outputs": [
    {
     "data": {
      "image/png": "[encoded data removed]",
      "text/plain": [
       "<Figure size 1296x576 with 1 Axes>"
      ]
     },
     "metadata": {},
     "output_type": "display_data"
    }
   ],
   "source": [
    "sns.set_theme(style='whitegrid')\n",
    "\n",
    "plt.figure(figsize=(18, 8))\n",
    "fig = sns.barplot(x=raw.drop('microbusiness_density', axis=1).columns, y=rf.feature_importances_);\n",
    "plt.bar_label(fig.containers[0], label_type = 'edge');"
   ]
  },
  {
   "attachments": {},
   "cell_type": "markdown",
   "metadata": {},
   "source": [
    "# <center><div style=\"font-family: sans-serif; border-radius : 10px; background-color: #000000; color: #00DDDE; padding: 12px; line-height: 1;\">Submission</div></center>\n",
    "\n",
    "1. Train RandomForestRegressor on raw dataset\n",
    "2. Data manipulation on test set\n",
    "3. Generate predictions on test set\n",
    "4. Create final submission dataframe"
   ]
  },
  {
   "attachments": {},
   "cell_type": "markdown",
   "metadata": {},
   "source": [
    "### 1. Train RandomForestRegressor on all Data"
   ]
  },
  {
   "cell_type": "code",
   "execution_count": 38,
   "metadata": {},
   "outputs": [
    {
     "data": {
      "text/html": [
       "<style>#sk-container-id-2 {color: black;background-color: white;}#sk-container-id-2 pre{padding: 0;}#sk-container-id-2 div.sk-toggleable {background-color: white;}#sk-container-id-2 label.sk-toggleable__label {cursor: pointer;display: block;width: 100%;margin-bottom: 0;padding: 0.3em;box-sizing: border-box;text-align: center;}#sk-container-id-2 label.sk-toggleable__label-arrow:before {content: \"▸\";float: left;margin-right: 0.25em;color: #696969;}#sk-container-id-2 label.sk-toggleable__label-arrow:hover:before {color: black;}#sk-container-id-2 div.sk-estimator:hover label.sk-toggleable__label-arrow:before {color: black;}#sk-container-id-2 div.sk-toggleable__content {max-height: 0;max-width: 0;overflow: hidden;text-align: left;background-color: #f0f8ff;}#sk-container-id-2 div.sk-toggleable__content pre {margin: 0.2em;color: black;border-radius: 0.25em;background-color: #f0f8ff;}#sk-container-id-2 input.sk-toggleable__control:checked~div.sk-toggleable__content {max-height: 200px;max-width: 100%;overflow: auto;}#sk-container-id-2 input.sk-toggleable__control:checked~label.sk-toggleable__label-arrow:before {content: \"▾\";}#sk-container-id-2 div.sk-estimator input.sk-toggleable__control:checked~label.sk-toggleable__label {background-color: #d4ebff;}#sk-container-id-2 div.sk-label input.sk-toggleable__control:checked~label.sk-toggleable__label {background-color: #d4ebff;}#sk-container-id-2 input.sk-hidden--visually {border: 0;clip: rect(1px 1px 1px 1px);clip: rect(1px, 1px, 1px, 1px);height: 1px;margin: -1px;overflow: hidden;padding: 0;position: absolute;width: 1px;}#sk-container-id-2 div.sk-estimator {font-family: monospace;background-color: #f0f8ff;border: 1px dotted black;border-radius: 0.25em;box-sizing: border-box;margin-bottom: 0.5em;}#sk-container-id-2 div.sk-estimator:hover {background-color: #d4ebff;}#sk-container-id-2 div.sk-parallel-item::after {content: \"\";width: 100%;border-bottom: 1px solid gray;flex-grow: 1;}#sk-container-id-2 div.sk-label:hover label.sk-toggleable__label {background-color: #d4ebff;}#sk-container-id-2 div.sk-serial::before {content: \"\";position: absolute;border-left: 1px solid gray;box-sizing: border-box;top: 0;bottom: 0;left: 50%;z-index: 0;}#sk-container-id-2 div.sk-serial {display: flex;flex-direction: column;align-items: center;background-color: white;padding-right: 0.2em;padding-left: 0.2em;position: relative;}#sk-container-id-2 div.sk-item {position: relative;z-index: 1;}#sk-container-id-2 div.sk-parallel {display: flex;align-items: stretch;justify-content: center;background-color: white;position: relative;}#sk-container-id-2 div.sk-item::before, #sk-container-id-2 div.sk-parallel-item::before {content: \"\";position: absolute;border-left: 1px solid gray;box-sizing: border-box;top: 0;bottom: 0;left: 50%;z-index: -1;}#sk-container-id-2 div.sk-parallel-item {display: flex;flex-direction: column;z-index: 1;position: relative;background-color: white;}#sk-container-id-2 div.sk-parallel-item:first-child::after {align-self: flex-end;width: 50%;}#sk-container-id-2 div.sk-parallel-item:last-child::after {align-self: flex-start;width: 50%;}#sk-container-id-2 div.sk-parallel-item:only-child::after {width: 0;}#sk-container-id-2 div.sk-dashed-wrapped {border: 1px dashed gray;margin: 0 0.4em 0.5em 0.4em;box-sizing: border-box;padding-bottom: 0.4em;background-color: white;}#sk-container-id-2 div.sk-label label {font-family: monospace;font-weight: bold;display: inline-block;line-height: 1.2em;}#sk-container-id-2 div.sk-label-container {text-align: center;}#sk-container-id-2 div.sk-container {/* jupyter's `normalize.less` sets `[hidden] { display: none; }` but bootstrap.min.css set `[hidden] { display: none !important; }` so we also need the `!important` here to be able to override the default hidden behavior on the sphinx rendered scikit-learn.org. See: https://github.com/scikit-learn/scikit-learn/issues/21755 */display: inline-block !important;position: relative;}#sk-container-id-2 div.sk-text-repr-fallback {display: none;}</style><div id=\"sk-container-id-2\" class=\"sk-top-container\"><div class=\"sk-text-repr-fallback\"><pre>RandomForestRegressor()</pre><b>In a Jupyter environment, please rerun this cell to show the HTML representation or trust the notebook. <br />On GitHub, the HTML representation is unable to render, please try loading this page with nbviewer.org.</b></div><div class=\"sk-container\" hidden><div class=\"sk-item\"><div class=\"sk-estimator sk-toggleable\"><input class=\"sk-toggleable__control sk-hidden--visually\" id=\"sk-estimator-id-2\" type=\"checkbox\" checked><label for=\"sk-estimator-id-2\" class=\"sk-toggleable__label sk-toggleable__label-arrow\">RandomForestRegressor</label><div class=\"sk-toggleable__content\"><pre>RandomForestRegressor()</pre></div></div></div></div></div>"
      ],
      "text/plain": [
       "RandomForestRegressor()"
      ]
     },
     "execution_count": 38,
     "metadata": {},
     "output_type": "execute_result"
    }
   ],
   "source": [
    "rf"
   ]
  },
  {
   "attachments": {},
   "cell_type": "markdown",
   "metadata": {},
   "source": [
    "### 2. Data Manipulation on Test Set"
   ]
  },
  {
   "cell_type": "code",
   "execution_count": 30,
   "metadata": {},
   "outputs": [
    {
     "data": {
      "text/html": [
       "<div>\n",
       "<style scoped>\n",
       "    .dataframe tbody tr th:only-of-type {\n",
       "        vertical-align: middle;\n",
       "    }\n",
       "\n",
       "    .dataframe tbody tr th {\n",
       "        vertical-align: top;\n",
       "    }\n",
       "\n",
       "    .dataframe thead th {\n",
       "        text-align: right;\n",
       "    }\n",
       "</style>\n",
       "<table border=\"1\" class=\"dataframe\">\n",
       "  <thead>\n",
       "    <tr style=\"text-align: right;\">\n",
       "      <th></th>\n",
       "      <th>row_id</th>\n",
       "      <th>cfips</th>\n",
       "      <th>first_day_of_month</th>\n",
       "    </tr>\n",
       "  </thead>\n",
       "  <tbody>\n",
       "    <tr>\n",
       "      <th>0</th>\n",
       "      <td>1001_2022-11-01</td>\n",
       "      <td>1001</td>\n",
       "      <td>2022-11-01</td>\n",
       "    </tr>\n",
       "    <tr>\n",
       "      <th>1</th>\n",
       "      <td>1003_2022-11-01</td>\n",
       "      <td>1003</td>\n",
       "      <td>2022-11-01</td>\n",
       "    </tr>\n",
       "    <tr>\n",
       "      <th>2</th>\n",
       "      <td>1005_2022-11-01</td>\n",
       "      <td>1005</td>\n",
       "      <td>2022-11-01</td>\n",
       "    </tr>\n",
       "    <tr>\n",
       "      <th>3</th>\n",
       "      <td>1007_2022-11-01</td>\n",
       "      <td>1007</td>\n",
       "      <td>2022-11-01</td>\n",
       "    </tr>\n",
       "    <tr>\n",
       "      <th>4</th>\n",
       "      <td>1009_2022-11-01</td>\n",
       "      <td>1009</td>\n",
       "      <td>2022-11-01</td>\n",
       "    </tr>\n",
       "  </tbody>\n",
       "</table>\n",
       "</div>"
      ],
      "text/plain": [
       "            row_id  cfips first_day_of_month\n",
       "0  1001_2022-11-01   1001         2022-11-01\n",
       "1  1003_2022-11-01   1003         2022-11-01\n",
       "2  1005_2022-11-01   1005         2022-11-01\n",
       "3  1007_2022-11-01   1007         2022-11-01\n",
       "4  1009_2022-11-01   1009         2022-11-01"
      ]
     },
     "execution_count": 30,
     "metadata": {},
     "output_type": "execute_result"
    }
   ],
   "source": [
    "test = pd.read_csv('data/test.csv', parse_dates=['first_day_of_month'])\n",
    "test.head()"
   ]
  },
  {
   "cell_type": "code",
   "execution_count": 31,
   "metadata": {},
   "outputs": [],
   "source": [
    "# Separate first_day_of_month\n",
    "test['year'] = test['first_day_of_month'].dt.year\n",
    "test['month'] = test['first_day_of_month'].dt.month\n",
    "\n",
    "# Saving row_id for making submission dataframe\n",
    "test_row_id = test['row_id']\n",
    "\n",
    "# Remove row_id\n",
    "test.drop(['row_id', 'first_day_of_month'], axis=1, inplace=True)"
   ]
  },
  {
   "cell_type": "code",
   "execution_count": 32,
   "metadata": {},
   "outputs": [
    {
     "data": {
      "text/html": [
       "<div>\n",
       "<style scoped>\n",
       "    .dataframe tbody tr th:only-of-type {\n",
       "        vertical-align: middle;\n",
       "    }\n",
       "\n",
       "    .dataframe tbody tr th {\n",
       "        vertical-align: top;\n",
       "    }\n",
       "\n",
       "    .dataframe thead th {\n",
       "        text-align: right;\n",
       "    }\n",
       "</style>\n",
       "<table border=\"1\" class=\"dataframe\">\n",
       "  <thead>\n",
       "    <tr style=\"text-align: right;\">\n",
       "      <th></th>\n",
       "      <th>cfips</th>\n",
       "      <th>year</th>\n",
       "      <th>month</th>\n",
       "    </tr>\n",
       "  </thead>\n",
       "  <tbody>\n",
       "    <tr>\n",
       "      <th>0</th>\n",
       "      <td>1001</td>\n",
       "      <td>2022</td>\n",
       "      <td>11</td>\n",
       "    </tr>\n",
       "    <tr>\n",
       "      <th>1</th>\n",
       "      <td>1003</td>\n",
       "      <td>2022</td>\n",
       "      <td>11</td>\n",
       "    </tr>\n",
       "    <tr>\n",
       "      <th>2</th>\n",
       "      <td>1005</td>\n",
       "      <td>2022</td>\n",
       "      <td>11</td>\n",
       "    </tr>\n",
       "    <tr>\n",
       "      <th>3</th>\n",
       "      <td>1007</td>\n",
       "      <td>2022</td>\n",
       "      <td>11</td>\n",
       "    </tr>\n",
       "    <tr>\n",
       "      <th>4</th>\n",
       "      <td>1009</td>\n",
       "      <td>2022</td>\n",
       "      <td>11</td>\n",
       "    </tr>\n",
       "  </tbody>\n",
       "</table>\n",
       "</div>"
      ],
      "text/plain": [
       "   cfips  year  month\n",
       "0   1001  2022     11\n",
       "1   1003  2022     11\n",
       "2   1005  2022     11\n",
       "3   1007  2022     11\n",
       "4   1009  2022     11"
      ]
     },
     "execution_count": 32,
     "metadata": {},
     "output_type": "execute_result"
    }
   ],
   "source": [
    "test.head()"
   ]
  },
  {
   "cell_type": "code",
   "execution_count": 33,
   "metadata": {},
   "outputs": [
    {
     "name": "stderr",
     "output_type": "stream",
     "text": [
      "c:\\Users\\Mohit\\anaconda3\\lib\\site-packages\\pandas\\core\\indexing.py:1732: SettingWithCopyWarning: \n",
      "A value is trying to be set on a copy of a slice from a DataFrame\n",
      "\n",
      "See the caveats in the documentation: https://pandas.pydata.org/pandas-docs/stable/user_guide/indexing.html#returning-a-view-versus-a-copy\n",
      "  self._setitem_single_block(indexer, value, name)\n"
     ]
    },
    {
     "name": "stdout",
     "output_type": "stream",
     "text": [
      "#0 row processed in 0.01 seconds\n",
      "#10000 row processed in 16.40 seconds\n",
      "#20000 row processed in 15.02 seconds\n",
      "Processing Completed!\n"
     ]
    }
   ],
   "source": [
    "# Adding census-specific columns to train dataset\n",
    "census_columns = ['broadband_access_pct', \n",
    "                  'college_degree_pct', \n",
    "                  'foreign_born_pct', \n",
    "                  'it_workers_pct', \n",
    "                  'median_household_income']\n",
    "test = test.reindex(columns=test.columns.tolist() + census_columns)\n",
    "\n",
    "start = time.time()\n",
    "\n",
    "# Running through all the data rows and imputing census data based on cfip ID and year\n",
    "for i in range(len(test)):\n",
    "  cfip = test['cfips'][i]\n",
    "  year = test['year'][i]\n",
    "  stats = getStats(cfip, year)\n",
    "    \n",
    "  test['broadband_access_pct'].iloc[i] = stats[0]\n",
    "  test['college_degree_pct'].iloc[i] = stats[1]\n",
    "  test['foreign_born_pct'].iloc[i] = stats[2]\n",
    "  test['it_workers_pct'].iloc[i] = stats[3]\n",
    "  test['median_household_income'].iloc[i] = stats[4]\n",
    "  \n",
    "  if (i % 10000 == 0):\n",
    "    end = time.time()\n",
    "    print(f'#{i} row processed in {(end - start):.2f} seconds')\n",
    "    start = time.time()\n",
    "    \n",
    "print('Processing Completed!')"
   ]
  },
  {
   "attachments": {},
   "cell_type": "markdown",
   "metadata": {},
   "source": [
    "### 3. Getting Predictions on Test Set"
   ]
  },
  {
   "cell_type": "code",
   "execution_count": 34,
   "metadata": {},
   "outputs": [],
   "source": [
    "submission_preds = rf.predict(test)"
   ]
  },
  {
   "cell_type": "code",
   "execution_count": 35,
   "metadata": {},
   "outputs": [
    {
     "data": {
      "text/plain": [
       "(25080, 25080)"
      ]
     },
     "execution_count": 35,
     "metadata": {},
     "output_type": "execute_result"
    }
   ],
   "source": [
    "len(submission_preds), len(test_row_id)"
   ]
  },
  {
   "attachments": {},
   "cell_type": "markdown",
   "metadata": {},
   "source": [
    "### 4. Making Submission DataFrame"
   ]
  },
  {
   "cell_type": "code",
   "execution_count": 36,
   "metadata": {},
   "outputs": [
    {
     "data": {
      "text/html": [
       "<div>\n",
       "<style scoped>\n",
       "    .dataframe tbody tr th:only-of-type {\n",
       "        vertical-align: middle;\n",
       "    }\n",
       "\n",
       "    .dataframe tbody tr th {\n",
       "        vertical-align: top;\n",
       "    }\n",
       "\n",
       "    .dataframe thead th {\n",
       "        text-align: right;\n",
       "    }\n",
       "</style>\n",
       "<table border=\"1\" class=\"dataframe\">\n",
       "  <thead>\n",
       "    <tr style=\"text-align: right;\">\n",
       "      <th></th>\n",
       "      <th>row_id</th>\n",
       "      <th>microbusiness_density</th>\n",
       "    </tr>\n",
       "  </thead>\n",
       "  <tbody>\n",
       "    <tr>\n",
       "      <th>0</th>\n",
       "      <td>1001_2022-11-01</td>\n",
       "      <td>3.441745</td>\n",
       "    </tr>\n",
       "    <tr>\n",
       "      <th>1</th>\n",
       "      <td>1003_2022-11-01</td>\n",
       "      <td>8.309257</td>\n",
       "    </tr>\n",
       "    <tr>\n",
       "      <th>2</th>\n",
       "      <td>1005_2022-11-01</td>\n",
       "      <td>1.223845</td>\n",
       "    </tr>\n",
       "    <tr>\n",
       "      <th>3</th>\n",
       "      <td>1007_2022-11-01</td>\n",
       "      <td>1.290789</td>\n",
       "    </tr>\n",
       "    <tr>\n",
       "      <th>4</th>\n",
       "      <td>1009_2022-11-01</td>\n",
       "      <td>1.844662</td>\n",
       "    </tr>\n",
       "  </tbody>\n",
       "</table>\n",
       "</div>"
      ],
      "text/plain": [
       "            row_id  microbusiness_density\n",
       "0  1001_2022-11-01               3.441745\n",
       "1  1003_2022-11-01               8.309257\n",
       "2  1005_2022-11-01               1.223845\n",
       "3  1007_2022-11-01               1.290789\n",
       "4  1009_2022-11-01               1.844662"
      ]
     },
     "execution_count": 36,
     "metadata": {},
     "output_type": "execute_result"
    }
   ],
   "source": [
    "submission = pd.DataFrame({'row_id': test_row_id, \n",
    "              'microbusiness_density': submission_preds})\n",
    "submission.head()"
   ]
  },
  {
   "cell_type": "code",
   "execution_count": 37,
   "metadata": {},
   "outputs": [],
   "source": [
    "submission.to_csv('data/raw_census_combined_submission.csv', index=False)"
   ]
  },
  {
   "attachments": {},
   "cell_type": "markdown",
   "metadata": {},
   "source": [
    "# <center><div style=\"font-family: sans-serif; border-radius : 10px; background-color: #000000; color: #00DDDE; padding: 12px; line-height: 1;\">Kaggle Score: 1.5523</div></center>"
   ]
  }
 ],
 "metadata": {
  "kernelspec": {
   "display_name": "base",
   "language": "python",
   "name": "python3"
  },
  "language_info": {
   "codemirror_mode": {
    "name": "ipython",
    "version": 3
   },
   "file_extension": ".py",
   "mimetype": "text/x-python",
   "name": "python",
   "nbconvert_exporter": "python",
   "pygments_lexer": "ipython3",
   "version": "3.9.7"
  },
  "orig_nbformat": 4,
  "vscode": {
   "interpreter": {
    "hash": "425927320cfd38c1f4d04dab592055e2380257b6c8d6532762caec5aa72862cb"
   }
  }
 },
 "nbformat": 4,
 "nbformat_minor": 2
}
