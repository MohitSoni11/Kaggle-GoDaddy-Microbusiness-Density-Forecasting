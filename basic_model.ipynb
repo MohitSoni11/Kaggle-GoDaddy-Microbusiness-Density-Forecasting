{
  "cells": [
    {
      "cell_type": "markdown",
      "metadata": {
        "id": "gBQdB1qmsgPS"
      },
      "source": [
        "# Basic Data Manipulation"
      ]
    },
    {
      "cell_type": "code",
      "execution_count": 161,
      "metadata": {
        "id": "5qjs3n93sgPW"
      },
      "outputs": [],
      "source": [
        "import numpy as np\n",
        "import pandas as pd\n",
        "import matplotlib.pyplot as plt\n",
        "import seaborn as sns"
      ]
    },
    {
      "cell_type": "code",
      "execution_count": 162,
      "metadata": {
        "id": "kqdJ6L65sgPY",
        "outputId": "10176235-c68b-41d3-de17-339da21693d9"
      },
      "outputs": [
        {
          "data": {
            "text/html": [
              "<div>\n",
              "<style scoped>\n",
              "    .dataframe tbody tr th:only-of-type {\n",
              "        vertical-align: middle;\n",
              "    }\n",
              "\n",
              "    .dataframe tbody tr th {\n",
              "        vertical-align: top;\n",
              "    }\n",
              "\n",
              "    .dataframe thead th {\n",
              "        text-align: right;\n",
              "    }\n",
              "</style>\n",
              "<table border=\"1\" class=\"dataframe\">\n",
              "  <thead>\n",
              "    <tr style=\"text-align: right;\">\n",
              "      <th></th>\n",
              "      <th>row_id</th>\n",
              "      <th>cfips</th>\n",
              "      <th>county</th>\n",
              "      <th>state</th>\n",
              "      <th>first_day_of_month</th>\n",
              "      <th>microbusiness_density</th>\n",
              "      <th>active</th>\n",
              "    </tr>\n",
              "  </thead>\n",
              "  <tbody>\n",
              "    <tr>\n",
              "      <th>0</th>\n",
              "      <td>1001_2019-08-01</td>\n",
              "      <td>1001</td>\n",
              "      <td>Autauga County</td>\n",
              "      <td>Alabama</td>\n",
              "      <td>2019-08-01</td>\n",
              "      <td>3.007682</td>\n",
              "      <td>1249</td>\n",
              "    </tr>\n",
              "    <tr>\n",
              "      <th>1</th>\n",
              "      <td>1001_2019-09-01</td>\n",
              "      <td>1001</td>\n",
              "      <td>Autauga County</td>\n",
              "      <td>Alabama</td>\n",
              "      <td>2019-09-01</td>\n",
              "      <td>2.884870</td>\n",
              "      <td>1198</td>\n",
              "    </tr>\n",
              "    <tr>\n",
              "      <th>2</th>\n",
              "      <td>1001_2019-10-01</td>\n",
              "      <td>1001</td>\n",
              "      <td>Autauga County</td>\n",
              "      <td>Alabama</td>\n",
              "      <td>2019-10-01</td>\n",
              "      <td>3.055843</td>\n",
              "      <td>1269</td>\n",
              "    </tr>\n",
              "    <tr>\n",
              "      <th>3</th>\n",
              "      <td>1001_2019-11-01</td>\n",
              "      <td>1001</td>\n",
              "      <td>Autauga County</td>\n",
              "      <td>Alabama</td>\n",
              "      <td>2019-11-01</td>\n",
              "      <td>2.993233</td>\n",
              "      <td>1243</td>\n",
              "    </tr>\n",
              "    <tr>\n",
              "      <th>4</th>\n",
              "      <td>1001_2019-12-01</td>\n",
              "      <td>1001</td>\n",
              "      <td>Autauga County</td>\n",
              "      <td>Alabama</td>\n",
              "      <td>2019-12-01</td>\n",
              "      <td>2.993233</td>\n",
              "      <td>1243</td>\n",
              "    </tr>\n",
              "  </tbody>\n",
              "</table>\n",
              "</div>"
            ],
            "text/plain": [
              "            row_id  cfips          county    state first_day_of_month  \\\n",
              "0  1001_2019-08-01   1001  Autauga County  Alabama         2019-08-01   \n",
              "1  1001_2019-09-01   1001  Autauga County  Alabama         2019-09-01   \n",
              "2  1001_2019-10-01   1001  Autauga County  Alabama         2019-10-01   \n",
              "3  1001_2019-11-01   1001  Autauga County  Alabama         2019-11-01   \n",
              "4  1001_2019-12-01   1001  Autauga County  Alabama         2019-12-01   \n",
              "\n",
              "   microbusiness_density  active  \n",
              "0               3.007682    1249  \n",
              "1               2.884870    1198  \n",
              "2               3.055843    1269  \n",
              "3               2.993233    1243  \n",
              "4               2.993233    1243  "
            ]
          },
          "execution_count": 162,
          "metadata": {},
          "output_type": "execute_result"
        }
      ],
      "source": [
        "# Importing the training data\n",
        "train = pd.read_csv('data/train.csv', parse_dates=['first_day_of_month'])\n",
        "train.head()"
      ]
    },
    {
      "cell_type": "code",
      "execution_count": 163,
      "metadata": {
        "id": "kxysCeg_sgPa",
        "outputId": "04c9ed4b-bb87-48e9-8e79-66b2e0eb0f87"
      },
      "outputs": [
        {
          "name": "stdout",
          "output_type": "stream",
          "text": [
            "<class 'pandas.core.frame.DataFrame'>\n",
            "RangeIndex: 122265 entries, 0 to 122264\n",
            "Data columns (total 7 columns):\n",
            " #   Column                 Non-Null Count   Dtype         \n",
            "---  ------                 --------------   -----         \n",
            " 0   row_id                 122265 non-null  object        \n",
            " 1   cfips                  122265 non-null  int64         \n",
            " 2   county                 122265 non-null  object        \n",
            " 3   state                  122265 non-null  object        \n",
            " 4   first_day_of_month     122265 non-null  datetime64[ns]\n",
            " 5   microbusiness_density  122265 non-null  float64       \n",
            " 6   active                 122265 non-null  int64         \n",
            "dtypes: datetime64[ns](1), float64(1), int64(2), object(3)\n",
            "memory usage: 6.5+ MB\n"
          ]
        }
      ],
      "source": [
        "train.info()"
      ]
    },
    {
      "cell_type": "code",
      "execution_count": 164,
      "metadata": {
        "id": "AizxxclZsgPb"
      },
      "outputs": [],
      "source": [
        "# Removing row_id, county, and state because those are redundant columns\n",
        "train.drop(['row_id', 'county', 'state'], axis=1, inplace=True)"
      ]
    },
    {
      "cell_type": "code",
      "execution_count": 165,
      "metadata": {
        "id": "GzZd8jhRsgPb",
        "outputId": "d9b66e95-b46c-4c81-d79e-ea91a3daad18"
      },
      "outputs": [
        {
          "data": {
            "text/html": [
              "<div>\n",
              "<style scoped>\n",
              "    .dataframe tbody tr th:only-of-type {\n",
              "        vertical-align: middle;\n",
              "    }\n",
              "\n",
              "    .dataframe tbody tr th {\n",
              "        vertical-align: top;\n",
              "    }\n",
              "\n",
              "    .dataframe thead th {\n",
              "        text-align: right;\n",
              "    }\n",
              "</style>\n",
              "<table border=\"1\" class=\"dataframe\">\n",
              "  <thead>\n",
              "    <tr style=\"text-align: right;\">\n",
              "      <th></th>\n",
              "      <th>cfips</th>\n",
              "      <th>first_day_of_month</th>\n",
              "      <th>microbusiness_density</th>\n",
              "      <th>active</th>\n",
              "    </tr>\n",
              "  </thead>\n",
              "  <tbody>\n",
              "    <tr>\n",
              "      <th>0</th>\n",
              "      <td>1001</td>\n",
              "      <td>2019-08-01</td>\n",
              "      <td>3.007682</td>\n",
              "      <td>1249</td>\n",
              "    </tr>\n",
              "    <tr>\n",
              "      <th>1</th>\n",
              "      <td>1001</td>\n",
              "      <td>2019-09-01</td>\n",
              "      <td>2.884870</td>\n",
              "      <td>1198</td>\n",
              "    </tr>\n",
              "    <tr>\n",
              "      <th>2</th>\n",
              "      <td>1001</td>\n",
              "      <td>2019-10-01</td>\n",
              "      <td>3.055843</td>\n",
              "      <td>1269</td>\n",
              "    </tr>\n",
              "    <tr>\n",
              "      <th>3</th>\n",
              "      <td>1001</td>\n",
              "      <td>2019-11-01</td>\n",
              "      <td>2.993233</td>\n",
              "      <td>1243</td>\n",
              "    </tr>\n",
              "    <tr>\n",
              "      <th>4</th>\n",
              "      <td>1001</td>\n",
              "      <td>2019-12-01</td>\n",
              "      <td>2.993233</td>\n",
              "      <td>1243</td>\n",
              "    </tr>\n",
              "  </tbody>\n",
              "</table>\n",
              "</div>"
            ],
            "text/plain": [
              "   cfips first_day_of_month  microbusiness_density  active\n",
              "0   1001         2019-08-01               3.007682    1249\n",
              "1   1001         2019-09-01               2.884870    1198\n",
              "2   1001         2019-10-01               3.055843    1269\n",
              "3   1001         2019-11-01               2.993233    1243\n",
              "4   1001         2019-12-01               2.993233    1243"
            ]
          },
          "execution_count": 165,
          "metadata": {},
          "output_type": "execute_result"
        }
      ],
      "source": [
        "train.head()"
      ]
    },
    {
      "cell_type": "code",
      "execution_count": 166,
      "metadata": {
        "id": "fa4rnTDSsgPc"
      },
      "outputs": [],
      "source": [
        "# Separating day, month, and year into their own features\n",
        "train['year'] = train['first_day_of_month'].dt.year\n",
        "train['month'] = train['first_day_of_month'].dt.month\n",
        "train['day'] = train['first_day_of_month'].dt.day\n",
        "train.drop('first_day_of_month', axis=1, inplace=True)"
      ]
    },
    {
      "cell_type": "code",
      "execution_count": 167,
      "metadata": {
        "id": "NeBqBG32sgPd",
        "outputId": "bc241fbe-de9a-4f51-fa7b-712a29587664"
      },
      "outputs": [
        {
          "data": {
            "text/html": [
              "<div>\n",
              "<style scoped>\n",
              "    .dataframe tbody tr th:only-of-type {\n",
              "        vertical-align: middle;\n",
              "    }\n",
              "\n",
              "    .dataframe tbody tr th {\n",
              "        vertical-align: top;\n",
              "    }\n",
              "\n",
              "    .dataframe thead th {\n",
              "        text-align: right;\n",
              "    }\n",
              "</style>\n",
              "<table border=\"1\" class=\"dataframe\">\n",
              "  <thead>\n",
              "    <tr style=\"text-align: right;\">\n",
              "      <th></th>\n",
              "      <th>cfips</th>\n",
              "      <th>microbusiness_density</th>\n",
              "      <th>active</th>\n",
              "      <th>year</th>\n",
              "      <th>month</th>\n",
              "      <th>day</th>\n",
              "    </tr>\n",
              "  </thead>\n",
              "  <tbody>\n",
              "    <tr>\n",
              "      <th>0</th>\n",
              "      <td>1001</td>\n",
              "      <td>3.007682</td>\n",
              "      <td>1249</td>\n",
              "      <td>2019</td>\n",
              "      <td>8</td>\n",
              "      <td>1</td>\n",
              "    </tr>\n",
              "    <tr>\n",
              "      <th>1</th>\n",
              "      <td>1001</td>\n",
              "      <td>2.884870</td>\n",
              "      <td>1198</td>\n",
              "      <td>2019</td>\n",
              "      <td>9</td>\n",
              "      <td>1</td>\n",
              "    </tr>\n",
              "    <tr>\n",
              "      <th>2</th>\n",
              "      <td>1001</td>\n",
              "      <td>3.055843</td>\n",
              "      <td>1269</td>\n",
              "      <td>2019</td>\n",
              "      <td>10</td>\n",
              "      <td>1</td>\n",
              "    </tr>\n",
              "    <tr>\n",
              "      <th>3</th>\n",
              "      <td>1001</td>\n",
              "      <td>2.993233</td>\n",
              "      <td>1243</td>\n",
              "      <td>2019</td>\n",
              "      <td>11</td>\n",
              "      <td>1</td>\n",
              "    </tr>\n",
              "    <tr>\n",
              "      <th>4</th>\n",
              "      <td>1001</td>\n",
              "      <td>2.993233</td>\n",
              "      <td>1243</td>\n",
              "      <td>2019</td>\n",
              "      <td>12</td>\n",
              "      <td>1</td>\n",
              "    </tr>\n",
              "  </tbody>\n",
              "</table>\n",
              "</div>"
            ],
            "text/plain": [
              "   cfips  microbusiness_density  active  year  month  day\n",
              "0   1001               3.007682    1249  2019      8    1\n",
              "1   1001               2.884870    1198  2019      9    1\n",
              "2   1001               3.055843    1269  2019     10    1\n",
              "3   1001               2.993233    1243  2019     11    1\n",
              "4   1001               2.993233    1243  2019     12    1"
            ]
          },
          "execution_count": 167,
          "metadata": {},
          "output_type": "execute_result"
        }
      ],
      "source": [
        "train.head()"
      ]
    },
    {
      "cell_type": "code",
      "execution_count": 168,
      "metadata": {
        "id": "jZj-16E5sgPd",
        "outputId": "051cf335-a5c4-4425-9581-fe0a2f8d508e"
      },
      "outputs": [
        {
          "data": {
            "text/plain": [
              "array([1], dtype=int64)"
            ]
          },
          "execution_count": 168,
          "metadata": {},
          "output_type": "execute_result"
        }
      ],
      "source": [
        "np.unique(train['day'])"
      ]
    },
    {
      "cell_type": "code",
      "execution_count": 169,
      "metadata": {
        "id": "vZuSh0bDsgPe"
      },
      "outputs": [],
      "source": [
        "# Since the day column has only one value, we can remove that as well\n",
        "train.drop('day', axis=1, inplace=True)"
      ]
    },
    {
      "cell_type": "code",
      "execution_count": 170,
      "metadata": {
        "id": "pUIupnFnsgPe"
      },
      "outputs": [],
      "source": [
        "# Dropping the active column because that's not in the test dataset\n",
        "train.drop('active', axis=1, inplace=True)"
      ]
    },
    {
      "cell_type": "code",
      "execution_count": 171,
      "metadata": {
        "id": "oUeH74AJsgPf",
        "outputId": "b939e591-0954-4614-f13f-7c0a31ef8cb5"
      },
      "outputs": [
        {
          "data": {
            "text/html": [
              "<div>\n",
              "<style scoped>\n",
              "    .dataframe tbody tr th:only-of-type {\n",
              "        vertical-align: middle;\n",
              "    }\n",
              "\n",
              "    .dataframe tbody tr th {\n",
              "        vertical-align: top;\n",
              "    }\n",
              "\n",
              "    .dataframe thead th {\n",
              "        text-align: right;\n",
              "    }\n",
              "</style>\n",
              "<table border=\"1\" class=\"dataframe\">\n",
              "  <thead>\n",
              "    <tr style=\"text-align: right;\">\n",
              "      <th></th>\n",
              "      <th>cfips</th>\n",
              "      <th>microbusiness_density</th>\n",
              "      <th>year</th>\n",
              "      <th>month</th>\n",
              "    </tr>\n",
              "  </thead>\n",
              "  <tbody>\n",
              "    <tr>\n",
              "      <th>0</th>\n",
              "      <td>1001</td>\n",
              "      <td>3.007682</td>\n",
              "      <td>2019</td>\n",
              "      <td>8</td>\n",
              "    </tr>\n",
              "    <tr>\n",
              "      <th>1</th>\n",
              "      <td>1001</td>\n",
              "      <td>2.884870</td>\n",
              "      <td>2019</td>\n",
              "      <td>9</td>\n",
              "    </tr>\n",
              "    <tr>\n",
              "      <th>2</th>\n",
              "      <td>1001</td>\n",
              "      <td>3.055843</td>\n",
              "      <td>2019</td>\n",
              "      <td>10</td>\n",
              "    </tr>\n",
              "    <tr>\n",
              "      <th>3</th>\n",
              "      <td>1001</td>\n",
              "      <td>2.993233</td>\n",
              "      <td>2019</td>\n",
              "      <td>11</td>\n",
              "    </tr>\n",
              "    <tr>\n",
              "      <th>4</th>\n",
              "      <td>1001</td>\n",
              "      <td>2.993233</td>\n",
              "      <td>2019</td>\n",
              "      <td>12</td>\n",
              "    </tr>\n",
              "  </tbody>\n",
              "</table>\n",
              "</div>"
            ],
            "text/plain": [
              "   cfips  microbusiness_density  year  month\n",
              "0   1001               3.007682  2019      8\n",
              "1   1001               2.884870  2019      9\n",
              "2   1001               3.055843  2019     10\n",
              "3   1001               2.993233  2019     11\n",
              "4   1001               2.993233  2019     12"
            ]
          },
          "execution_count": 171,
          "metadata": {},
          "output_type": "execute_result"
        }
      ],
      "source": [
        "train.head()"
      ]
    },
    {
      "attachments": {},
      "cell_type": "markdown",
      "metadata": {},
      "source": [
        "Since we want to build a forecasting model, we cannot just merely split the data into a training and testing set randomly. Instead, to evaluate a model on its forecasting ability, we need to train it on the first 80% of the dates and test it on the last 20% of the dates that are in our training set (for each `cfips` id)"
      ]
    },
    {
      "cell_type": "code",
      "execution_count": 172,
      "metadata": {},
      "outputs": [],
      "source": [
        "from sklearn.model_selection import train_test_split\n",
        "\n",
        "training_set = train[train['year'] < 2022].append(train[(train['year'] == 2022) & (train['month'] <= 2)])\n",
        "X_train = training_set.drop('microbusiness_density', axis=1)\n",
        "y_train = training_set['microbusiness_density']\n",
        "\n",
        "# Resetting index\n",
        "X_train.index = np.arange(len(X_train))\n",
        "y_train.index = np.arange(len(y_train))\n",
        "\n",
        "validation_set = train[(train['year'] == 2022) & (train['month'] > 2)]\n",
        "X_val = validation_set.drop('microbusiness_density', axis=1)\n",
        "y_val =validation_set['microbusiness_density']\n",
        "\n",
        "# Resetting index\n",
        "X_val.index = np.arange(len(X_val))\n",
        "y_val.index = np.arange(len(y_val))"
      ]
    },
    {
      "cell_type": "markdown",
      "metadata": {
        "id": "j-XGgF2BsgPg"
      },
      "source": [
        "# Training"
      ]
    },
    {
      "cell_type": "code",
      "execution_count": 173,
      "metadata": {
        "id": "7-lIPJw7sgPg"
      },
      "outputs": [],
      "source": [
        "from sklearn.linear_model import LinearRegression\n",
        "from sklearn.ensemble import RandomForestRegressor\n",
        "import xgboost as xgb"
      ]
    },
    {
      "cell_type": "code",
      "execution_count": 174,
      "metadata": {
        "id": "UiYER_QosgPg"
      },
      "outputs": [],
      "source": [
        "# This will make training/evaluating much simpler\n",
        "\n",
        "# Contains the name of the model as a string\n",
        "# Contains a list with the first index as the model and the second index as the color it should be represented with\n",
        "model_dict = {'LinearRegression': LinearRegression(),\n",
        "              'RandomForestRegressor': RandomForestRegressor(), \n",
        "              'XGBoostRegressor': xgb.XGBRegressor()}"
      ]
    },
    {
      "cell_type": "code",
      "execution_count": 175,
      "metadata": {
        "id": "kTiJw8wYsgPh"
      },
      "outputs": [],
      "source": [
        "def training(model_dict, X_train, y_train):\n",
        "  '''\n",
        "  Trains all the models in `model_dict` on `X_train` and `y_train` and returns\n",
        "  a dictionary of trained models and the model's names.\n",
        "  '''\n",
        "  \n",
        "  # Training models and documenting when they're training\n",
        "  for model_name, model_list in model_dict.items():\n",
        "    print(f'Training {model_name}...')\n",
        "    model_list.fit(X_train, y_train)\n",
        "  \n",
        "  return model_dict"
      ]
    },
    {
      "cell_type": "code",
      "execution_count": 176,
      "metadata": {
        "id": "AbohhrWrsgPh",
        "outputId": "e6529428-8ad0-4422-d3f2-2f5d5238a604"
      },
      "outputs": [
        {
          "name": "stdout",
          "output_type": "stream",
          "text": [
            "Training LinearRegression...\n",
            "Training RandomForestRegressor...\n",
            "Training XGBoostRegressor...\n"
          ]
        }
      ],
      "source": [
        "trained_model_dict = training(model_dict, X_train, y_train)"
      ]
    },
    {
      "cell_type": "code",
      "execution_count": 177,
      "metadata": {
        "id": "6TpnThJLsgPi",
        "outputId": "af174663-57a8-4e02-8bc4-b9b546d30218"
      },
      "outputs": [
        {
          "data": {
            "text/plain": [
              "{'LinearRegression': LinearRegression(),\n",
              " 'RandomForestRegressor': RandomForestRegressor(),\n",
              " 'XGBoostRegressor': XGBRegressor(base_score=0.5, booster='gbtree', callbacks=None,\n",
              "              colsample_bylevel=1, colsample_bynode=1, colsample_bytree=1,\n",
              "              early_stopping_rounds=None, enable_categorical=False,\n",
              "              eval_metric=None, feature_types=None, gamma=0, gpu_id=-1,\n",
              "              grow_policy='depthwise', importance_type=None,\n",
              "              interaction_constraints='', learning_rate=0.300000012, max_bin=256,\n",
              "              max_cat_threshold=64, max_cat_to_onehot=4, max_delta_step=0,\n",
              "              max_depth=6, max_leaves=0, min_child_weight=1, missing=nan,\n",
              "              monotone_constraints='()', n_estimators=100, n_jobs=0,\n",
              "              num_parallel_tree=1, predictor='auto', random_state=0, ...)}"
            ]
          },
          "execution_count": 177,
          "metadata": {},
          "output_type": "execute_result"
        }
      ],
      "source": [
        "trained_model_dict"
      ]
    },
    {
      "cell_type": "markdown",
      "metadata": {
        "id": "ndyaxFe0sgPi"
      },
      "source": [
        "# Evaluation for Basic Models\n",
        "\n",
        "$$SMAPE = \\frac{1}{n} * \\sum^{n}_{i=1}{\\frac{2 * |P_i - A_i|}{(|A_i| + |P_i|)}}$$ \n",
        "where $P$ = predicted value and $A$ = actual value\n"
      ]
    },
    {
      "cell_type": "code",
      "execution_count": 178,
      "metadata": {
        "id": "GbfMV0pPsgPi"
      },
      "outputs": [],
      "source": [
        "def SMAPE(actual, pred):\n",
        "  '''\n",
        "  Calculates and returns the SMAPE (Symmetrics Mean Absolute Percentage Error) evaluation \n",
        "  metric based on the actual values (`actual`) and predicted values (`pred`).\n",
        "  '''\n",
        "  \n",
        "  numerator = np.abs(pred - actual) * 2\n",
        "  denominator = np.abs(actual) + np.abs(pred)\n",
        "  return np.mean(numerator / denominator)"
      ]
    },
    {
      "cell_type": "code",
      "execution_count": 251,
      "metadata": {
        "id": "uAuRZmw4sgPj"
      },
      "outputs": [],
      "source": [
        "import random\n",
        "\n",
        "def model_evaluation(trained_model_dict, X_val, y_val, cfip):\n",
        "  '''\n",
        "  Finds the SMAPE evaluation metric for each model in `trained_model_dict` using\n",
        "  `X_val` and `y_val`.\n",
        "  \n",
        "  Plots the different SMAPE evaluation metrics for each model in `trained_model_dict`.\n",
        "  \n",
        "  Plots the prediction values for each model and for the given `cfip` code, comparing them to `y_val` (actual values).\n",
        "  '''\n",
        "  \n",
        "  smape_scores = []\n",
        "  fig1, ax1 = plt.subplots(1, 2, figsize=(22, 7))\n",
        "  fig2, ax2 = plt.subplots(1, len(trained_model_dict), figsize=(22, 4))\n",
        "  color_scheme = ['orange', 'green', 'red']\n",
        "  i = 0\n",
        "  \n",
        "  for model_name, trained_model in trained_model_dict.items():\n",
        "    # Calculating validation SMAPE metric\n",
        "    preds = trained_model.predict(X_val)\n",
        "    val_smape = SMAPE(y_val, preds)\n",
        "    \n",
        "    # Calculating train SMAPE metric\n",
        "    train_preds = trained_model.predict(X_train)\n",
        "    train_smape = SMAPE(y_train, train_preds)\n",
        "    \n",
        "    # Appending validation SMAPE to plot it later on\n",
        "    smape_scores.append(val_smape)\n",
        "    \n",
        "    # Documenting Metrics\n",
        "    print(f'{model_name} (Validation SMAPE): {val_smape * 100:.2f}%')\n",
        "    print(f'{model_name} (Training SMAPE): {train_smape * 100:.2f}%')\n",
        "    print('--------------------------------------------------------')\n",
        "    \n",
        "    # Plotting main lineplot\n",
        "    all_dates = train[train['cfips'] == cfip]['month'].astype(str) + '-' + train[train['cfips'] == cfip]['year'].astype(str)\n",
        "    validation_dates = X_val[X_val['cfips'] == cfip]['month'].astype(str) + '-' + X_val[X_val['cfips'] == cfip]['year'].astype(str)\n",
        "    \n",
        "    if (i == 0): ax1[1].plot(all_dates, train[train['cfips'] == cfip]['microbusiness_density'], label='Actual Values')\n",
        "    ax1[1].plot(validation_dates, preds[X_val[X_val['cfips'] == cfip].index], label=f'{model_name} Predictions', color=color_scheme[i])\n",
        "\n",
        "    # Plotting  supportive lineplots\n",
        "    ax2[i].plot(validation_dates, y_val[X_val[X_val['cfips'] == cfip].index], label='Actual Values')\n",
        "    ax2[i].plot(validation_dates, preds[X_val[X_val['cfips'] == cfip].index], label=f'{model_name} Predictions', color=color_scheme[i])\n",
        "    i += 1\n",
        "  \n",
        "  # Plotting Barplot\n",
        "  ax1[0].bar(trained_model_dict.keys(), smape_scores, color=color_scheme)\n",
        "  \n",
        "  # Main Plot Customizations  \n",
        "  ax1[1].legend()\n",
        "  ax1[0].set_ylabel('SMAPE (%)')  \n",
        "  ax1[1].set_ylabel('Microbusiness Density')\n",
        "  ax1[1].tick_params(axis='x', labelrotation=45)\n",
        "  ax1[1].set_title(f'CFIP: {cfip}')\n",
        "  ax1[1].grid(True)\n",
        "  \n",
        "  # Supporting Plot Customizations\n",
        "  ax2[0].set_ylabel('Microbusiness Density')\n",
        "  ax2[1].set_title(f'CFIP: {cfip}')\n",
        "  for i in range(len(trained_model_dict)):\n",
        "    ax2[i].tick_params(axis='x', labelrotation=45)\n",
        "    ax2[i].grid(True)\n",
        "    ax2[i].legend()\n",
        "      \n",
        "  plt.show()"
      ]
    },
    {
      "cell_type": "code",
      "execution_count": 252,
      "metadata": {
        "id": "GS9OJAOPsgPl",
        "outputId": "eed8383b-1e1b-4bfa-f2cb-785586571fb2"
      },
      "outputs": [
        {
          "name": "stdout",
          "output_type": "stream",
          "text": [
            "LinearRegression (Validation SMAPE): 62.20%\n",
            "LinearRegression (Training SMAPE): 62.27%\n",
            "--------------------------------------------------------\n",
            "RandomForestRegressor (Validation SMAPE): 4.67%\n",
            "RandomForestRegressor (Training SMAPE): 0.90%\n",
            "--------------------------------------------------------\n",
            "XGBoostRegressor (Validation SMAPE): 35.79%\n",
            "XGBoostRegressor (Training SMAPE): 35.79%\n",
            "--------------------------------------------------------\n"
          ]
        },
        {
          "data": {
            "image/png": "[encoded data removed]",
            "text/plain": [
              "<Figure size 1584x504 with 2 Axes>"
            ]
          },
          "metadata": {
            "needs_background": "light"
          },
          "output_type": "display_data"
        },
        {
          "data": {
            "image/png": "[encoded data removed]",
            "text/plain": [
              "<Figure size 1584x288 with 3 Axes>"
            ]
          },
          "metadata": {
            "needs_background": "light"
          },
          "output_type": "display_data"
        }
      ],
      "source": [
        "model_evaluation(trained_model_dict, X_val, y_val, 1001)"
      ]
    },
    {
      "cell_type": "markdown",
      "metadata": {
        "id": "djFlsQhpsgPm"
      },
      "source": [
        "# Feature Importance"
      ]
    },
    {
      "cell_type": "code",
      "execution_count": 248,
      "metadata": {
        "id": "F7c9QRkVsgPm",
        "outputId": "9e246aba-8fb7-4eb0-887b-848295cb5962"
      },
      "outputs": [
        {
          "data": {
            "text/plain": [
              "array([0.82111015, 0.12829079, 0.05059906])"
            ]
          },
          "execution_count": 248,
          "metadata": {},
          "output_type": "execute_result"
        }
      ],
      "source": [
        "feature_importance = trained_model_dict['RandomForestRegressor'].feature_importances_\n",
        "feature_importance"
      ]
    },
    {
      "cell_type": "code",
      "execution_count": 249,
      "metadata": {
        "id": "Dl1CNhd1sgPm",
        "outputId": "53cfd29c-e5f8-4a94-94e4-3a824768a35e"
      },
      "outputs": [
        {
          "data": {
            "text/plain": [
              "['cfips', 'year', 'month']"
            ]
          },
          "execution_count": 249,
          "metadata": {},
          "output_type": "execute_result"
        }
      ],
      "source": [
        "list(X_train.columns)"
      ]
    },
    {
      "cell_type": "code",
      "execution_count": 250,
      "metadata": {
        "id": "JQkuZK-msgPn",
        "outputId": "0ff91717-9818-4554-9ac1-72887d1b2377"
      },
      "outputs": [
        {
          "data": {
            "image/png": "[encoded data removed]",
            "text/plain": [
              "<Figure size 432x288 with 1 Axes>"
            ]
          },
          "metadata": {
            "needs_background": "light"
          },
          "output_type": "display_data"
        }
      ],
      "source": [
        "plt.bar(np.array(X_train.columns), feature_importance);"
      ]
    },
    {
      "cell_type": "markdown",
      "metadata": {
        "id": "5ZoBITFXsgPn"
      },
      "source": [
        "# First Submission"
      ]
    },
    {
      "attachments": {},
      "cell_type": "markdown",
      "metadata": {},
      "source": [
        "Need to train the model on all the training data"
      ]
    },
    {
      "cell_type": "code",
      "execution_count": 195,
      "metadata": {},
      "outputs": [
        {
          "data": {
            "text/html": [
              "<style>#sk-container-id-1 {color: black;background-color: white;}#sk-container-id-1 pre{padding: 0;}#sk-container-id-1 div.sk-toggleable {background-color: white;}#sk-container-id-1 label.sk-toggleable__label {cursor: pointer;display: block;width: 100%;margin-bottom: 0;padding: 0.3em;box-sizing: border-box;text-align: center;}#sk-container-id-1 label.sk-toggleable__label-arrow:before {content: \"▸\";float: left;margin-right: 0.25em;color: #696969;}#sk-container-id-1 label.sk-toggleable__label-arrow:hover:before {color: black;}#sk-container-id-1 div.sk-estimator:hover label.sk-toggleable__label-arrow:before {color: black;}#sk-container-id-1 div.sk-toggleable__content {max-height: 0;max-width: 0;overflow: hidden;text-align: left;background-color: #f0f8ff;}#sk-container-id-1 div.sk-toggleable__content pre {margin: 0.2em;color: black;border-radius: 0.25em;background-color: #f0f8ff;}#sk-container-id-1 input.sk-toggleable__control:checked~div.sk-toggleable__content {max-height: 200px;max-width: 100%;overflow: auto;}#sk-container-id-1 input.sk-toggleable__control:checked~label.sk-toggleable__label-arrow:before {content: \"▾\";}#sk-container-id-1 div.sk-estimator input.sk-toggleable__control:checked~label.sk-toggleable__label {background-color: #d4ebff;}#sk-container-id-1 div.sk-label input.sk-toggleable__control:checked~label.sk-toggleable__label {background-color: #d4ebff;}#sk-container-id-1 input.sk-hidden--visually {border: 0;clip: rect(1px 1px 1px 1px);clip: rect(1px, 1px, 1px, 1px);height: 1px;margin: -1px;overflow: hidden;padding: 0;position: absolute;width: 1px;}#sk-container-id-1 div.sk-estimator {font-family: monospace;background-color: #f0f8ff;border: 1px dotted black;border-radius: 0.25em;box-sizing: border-box;margin-bottom: 0.5em;}#sk-container-id-1 div.sk-estimator:hover {background-color: #d4ebff;}#sk-container-id-1 div.sk-parallel-item::after {content: \"\";width: 100%;border-bottom: 1px solid gray;flex-grow: 1;}#sk-container-id-1 div.sk-label:hover label.sk-toggleable__label {background-color: #d4ebff;}#sk-container-id-1 div.sk-serial::before {content: \"\";position: absolute;border-left: 1px solid gray;box-sizing: border-box;top: 0;bottom: 0;left: 50%;z-index: 0;}#sk-container-id-1 div.sk-serial {display: flex;flex-direction: column;align-items: center;background-color: white;padding-right: 0.2em;padding-left: 0.2em;position: relative;}#sk-container-id-1 div.sk-item {position: relative;z-index: 1;}#sk-container-id-1 div.sk-parallel {display: flex;align-items: stretch;justify-content: center;background-color: white;position: relative;}#sk-container-id-1 div.sk-item::before, #sk-container-id-1 div.sk-parallel-item::before {content: \"\";position: absolute;border-left: 1px solid gray;box-sizing: border-box;top: 0;bottom: 0;left: 50%;z-index: -1;}#sk-container-id-1 div.sk-parallel-item {display: flex;flex-direction: column;z-index: 1;position: relative;background-color: white;}#sk-container-id-1 div.sk-parallel-item:first-child::after {align-self: flex-end;width: 50%;}#sk-container-id-1 div.sk-parallel-item:last-child::after {align-self: flex-start;width: 50%;}#sk-container-id-1 div.sk-parallel-item:only-child::after {width: 0;}#sk-container-id-1 div.sk-dashed-wrapped {border: 1px dashed gray;margin: 0 0.4em 0.5em 0.4em;box-sizing: border-box;padding-bottom: 0.4em;background-color: white;}#sk-container-id-1 div.sk-label label {font-family: monospace;font-weight: bold;display: inline-block;line-height: 1.2em;}#sk-container-id-1 div.sk-label-container {text-align: center;}#sk-container-id-1 div.sk-container {/* jupyter's `normalize.less` sets `[hidden] { display: none; }` but bootstrap.min.css set `[hidden] { display: none !important; }` so we also need the `!important` here to be able to override the default hidden behavior on the sphinx rendered scikit-learn.org. See: https://github.com/scikit-learn/scikit-learn/issues/21755 */display: inline-block !important;position: relative;}#sk-container-id-1 div.sk-text-repr-fallback {display: none;}</style><div id=\"sk-container-id-1\" class=\"sk-top-container\"><div class=\"sk-text-repr-fallback\"><pre>RandomForestRegressor()</pre><b>In a Jupyter environment, please rerun this cell to show the HTML representation or trust the notebook. <br />On GitHub, the HTML representation is unable to render, please try loading this page with nbviewer.org.</b></div><div class=\"sk-container\" hidden><div class=\"sk-item\"><div class=\"sk-estimator sk-toggleable\"><input class=\"sk-toggleable__control sk-hidden--visually\" id=\"sk-estimator-id-1\" type=\"checkbox\" checked><label for=\"sk-estimator-id-1\" class=\"sk-toggleable__label sk-toggleable__label-arrow\">RandomForestRegressor</label><div class=\"sk-toggleable__content\"><pre>RandomForestRegressor()</pre></div></div></div></div></div>"
            ],
            "text/plain": [
              "RandomForestRegressor()"
            ]
          },
          "execution_count": 195,
          "metadata": {},
          "output_type": "execute_result"
        }
      ],
      "source": [
        "rf = RandomForestRegressor()\n",
        "rf.fit(train.drop(['microbusiness_density'], axis=1), train['microbusiness_density'])"
      ]
    },
    {
      "attachments": {},
      "cell_type": "markdown",
      "metadata": {
        "id": "RMWDEULjsgPn"
      },
      "source": [
        "### Data Manipulation on Test Set"
      ]
    },
    {
      "cell_type": "code",
      "execution_count": 196,
      "metadata": {
        "id": "DRHORKKfsgPn",
        "outputId": "538bdd95-81a4-45fe-84ad-7feb2ce2cc2e"
      },
      "outputs": [
        {
          "data": {
            "text/html": [
              "<div>\n",
              "<style scoped>\n",
              "    .dataframe tbody tr th:only-of-type {\n",
              "        vertical-align: middle;\n",
              "    }\n",
              "\n",
              "    .dataframe tbody tr th {\n",
              "        vertical-align: top;\n",
              "    }\n",
              "\n",
              "    .dataframe thead th {\n",
              "        text-align: right;\n",
              "    }\n",
              "</style>\n",
              "<table border=\"1\" class=\"dataframe\">\n",
              "  <thead>\n",
              "    <tr style=\"text-align: right;\">\n",
              "      <th></th>\n",
              "      <th>row_id</th>\n",
              "      <th>cfips</th>\n",
              "      <th>first_day_of_month</th>\n",
              "    </tr>\n",
              "  </thead>\n",
              "  <tbody>\n",
              "    <tr>\n",
              "      <th>0</th>\n",
              "      <td>1001_2022-11-01</td>\n",
              "      <td>1001</td>\n",
              "      <td>2022-11-01</td>\n",
              "    </tr>\n",
              "    <tr>\n",
              "      <th>1</th>\n",
              "      <td>1003_2022-11-01</td>\n",
              "      <td>1003</td>\n",
              "      <td>2022-11-01</td>\n",
              "    </tr>\n",
              "    <tr>\n",
              "      <th>2</th>\n",
              "      <td>1005_2022-11-01</td>\n",
              "      <td>1005</td>\n",
              "      <td>2022-11-01</td>\n",
              "    </tr>\n",
              "    <tr>\n",
              "      <th>3</th>\n",
              "      <td>1007_2022-11-01</td>\n",
              "      <td>1007</td>\n",
              "      <td>2022-11-01</td>\n",
              "    </tr>\n",
              "    <tr>\n",
              "      <th>4</th>\n",
              "      <td>1009_2022-11-01</td>\n",
              "      <td>1009</td>\n",
              "      <td>2022-11-01</td>\n",
              "    </tr>\n",
              "  </tbody>\n",
              "</table>\n",
              "</div>"
            ],
            "text/plain": [
              "            row_id  cfips first_day_of_month\n",
              "0  1001_2022-11-01   1001         2022-11-01\n",
              "1  1003_2022-11-01   1003         2022-11-01\n",
              "2  1005_2022-11-01   1005         2022-11-01\n",
              "3  1007_2022-11-01   1007         2022-11-01\n",
              "4  1009_2022-11-01   1009         2022-11-01"
            ]
          },
          "execution_count": 196,
          "metadata": {},
          "output_type": "execute_result"
        }
      ],
      "source": [
        "test = pd.read_csv('data/test.csv', parse_dates=['first_day_of_month'])\n",
        "test.head()"
      ]
    },
    {
      "attachments": {},
      "cell_type": "markdown",
      "metadata": {},
      "source": [
        "Need to separate the month and year like we did for the training set... and then we can gather predictions on the test set"
      ]
    },
    {
      "cell_type": "code",
      "execution_count": 197,
      "metadata": {
        "id": "RhxfitjRsgPo",
        "outputId": "9b46ef58-250e-487f-cf83-9bdf1f2fe2be"
      },
      "outputs": [
        {
          "data": {
            "text/html": [
              "<div>\n",
              "<style scoped>\n",
              "    .dataframe tbody tr th:only-of-type {\n",
              "        vertical-align: middle;\n",
              "    }\n",
              "\n",
              "    .dataframe tbody tr th {\n",
              "        vertical-align: top;\n",
              "    }\n",
              "\n",
              "    .dataframe thead th {\n",
              "        text-align: right;\n",
              "    }\n",
              "</style>\n",
              "<table border=\"1\" class=\"dataframe\">\n",
              "  <thead>\n",
              "    <tr style=\"text-align: right;\">\n",
              "      <th></th>\n",
              "      <th>cfips</th>\n",
              "      <th>microbusiness_density</th>\n",
              "      <th>year</th>\n",
              "      <th>month</th>\n",
              "    </tr>\n",
              "  </thead>\n",
              "  <tbody>\n",
              "    <tr>\n",
              "      <th>0</th>\n",
              "      <td>1001</td>\n",
              "      <td>3.007682</td>\n",
              "      <td>2019</td>\n",
              "      <td>8</td>\n",
              "    </tr>\n",
              "    <tr>\n",
              "      <th>1</th>\n",
              "      <td>1001</td>\n",
              "      <td>2.884870</td>\n",
              "      <td>2019</td>\n",
              "      <td>9</td>\n",
              "    </tr>\n",
              "    <tr>\n",
              "      <th>2</th>\n",
              "      <td>1001</td>\n",
              "      <td>3.055843</td>\n",
              "      <td>2019</td>\n",
              "      <td>10</td>\n",
              "    </tr>\n",
              "    <tr>\n",
              "      <th>3</th>\n",
              "      <td>1001</td>\n",
              "      <td>2.993233</td>\n",
              "      <td>2019</td>\n",
              "      <td>11</td>\n",
              "    </tr>\n",
              "    <tr>\n",
              "      <th>4</th>\n",
              "      <td>1001</td>\n",
              "      <td>2.993233</td>\n",
              "      <td>2019</td>\n",
              "      <td>12</td>\n",
              "    </tr>\n",
              "  </tbody>\n",
              "</table>\n",
              "</div>"
            ],
            "text/plain": [
              "   cfips  microbusiness_density  year  month\n",
              "0   1001               3.007682  2019      8\n",
              "1   1001               2.884870  2019      9\n",
              "2   1001               3.055843  2019     10\n",
              "3   1001               2.993233  2019     11\n",
              "4   1001               2.993233  2019     12"
            ]
          },
          "execution_count": 197,
          "metadata": {},
          "output_type": "execute_result"
        }
      ],
      "source": [
        "train.head()"
      ]
    },
    {
      "cell_type": "code",
      "execution_count": 198,
      "metadata": {
        "id": "Wa5IMSG_sgPo"
      },
      "outputs": [],
      "source": [
        "# Saving the test row_id column before dropping it\n",
        "row_id = test['row_id']"
      ]
    },
    {
      "cell_type": "code",
      "execution_count": 199,
      "metadata": {
        "id": "HPEChk8isgPo"
      },
      "outputs": [],
      "source": [
        "test['year'] = test['first_day_of_month'].dt.year\n",
        "test['month'] = test['first_day_of_month'].dt.month\n",
        "\n",
        "# Removing row_id and first_day_of_month column\n",
        "test.drop(['row_id'], axis=1, inplace=True)\n",
        "test.drop(['first_day_of_month'], axis=1, inplace=True)"
      ]
    },
    {
      "cell_type": "code",
      "execution_count": 200,
      "metadata": {
        "id": "0pV5ZdhYsgPp",
        "outputId": "a46c8077-72c1-4aff-8657-6f11c79b9a12"
      },
      "outputs": [
        {
          "data": {
            "text/html": [
              "<div>\n",
              "<style scoped>\n",
              "    .dataframe tbody tr th:only-of-type {\n",
              "        vertical-align: middle;\n",
              "    }\n",
              "\n",
              "    .dataframe tbody tr th {\n",
              "        vertical-align: top;\n",
              "    }\n",
              "\n",
              "    .dataframe thead th {\n",
              "        text-align: right;\n",
              "    }\n",
              "</style>\n",
              "<table border=\"1\" class=\"dataframe\">\n",
              "  <thead>\n",
              "    <tr style=\"text-align: right;\">\n",
              "      <th></th>\n",
              "      <th>cfips</th>\n",
              "      <th>year</th>\n",
              "      <th>month</th>\n",
              "    </tr>\n",
              "  </thead>\n",
              "  <tbody>\n",
              "    <tr>\n",
              "      <th>0</th>\n",
              "      <td>1001</td>\n",
              "      <td>2022</td>\n",
              "      <td>11</td>\n",
              "    </tr>\n",
              "    <tr>\n",
              "      <th>1</th>\n",
              "      <td>1003</td>\n",
              "      <td>2022</td>\n",
              "      <td>11</td>\n",
              "    </tr>\n",
              "    <tr>\n",
              "      <th>2</th>\n",
              "      <td>1005</td>\n",
              "      <td>2022</td>\n",
              "      <td>11</td>\n",
              "    </tr>\n",
              "    <tr>\n",
              "      <th>3</th>\n",
              "      <td>1007</td>\n",
              "      <td>2022</td>\n",
              "      <td>11</td>\n",
              "    </tr>\n",
              "    <tr>\n",
              "      <th>4</th>\n",
              "      <td>1009</td>\n",
              "      <td>2022</td>\n",
              "      <td>11</td>\n",
              "    </tr>\n",
              "  </tbody>\n",
              "</table>\n",
              "</div>"
            ],
            "text/plain": [
              "   cfips  year  month\n",
              "0   1001  2022     11\n",
              "1   1003  2022     11\n",
              "2   1005  2022     11\n",
              "3   1007  2022     11\n",
              "4   1009  2022     11"
            ]
          },
          "execution_count": 200,
          "metadata": {},
          "output_type": "execute_result"
        }
      ],
      "source": [
        "test.head()"
      ]
    },
    {
      "cell_type": "markdown",
      "metadata": {
        "id": "XFACd8VusgPp"
      },
      "source": [
        "### Getting Predictions on Test Set"
      ]
    },
    {
      "cell_type": "code",
      "execution_count": 201,
      "metadata": {
        "id": "DEbmADnMsgPq"
      },
      "outputs": [],
      "source": [
        "submission_preds = rf.predict(test)"
      ]
    },
    {
      "cell_type": "code",
      "execution_count": 202,
      "metadata": {
        "id": "x71q97mbsgPq",
        "outputId": "cbd9164d-40ce-4d6e-f0ff-cf429119c4d5"
      },
      "outputs": [
        {
          "data": {
            "text/plain": [
              "(25080, 25080)"
            ]
          },
          "execution_count": 202,
          "metadata": {},
          "output_type": "execute_result"
        }
      ],
      "source": [
        "len(submission_preds), len(row_id)"
      ]
    },
    {
      "cell_type": "markdown",
      "metadata": {
        "id": "saErjNiysgPq"
      },
      "source": [
        "### Making Submission DataFrame"
      ]
    },
    {
      "cell_type": "code",
      "execution_count": 203,
      "metadata": {
        "id": "D0qDErF0sgPq",
        "outputId": "62fd0e78-d2af-44b0-89cd-c68b723a6b98"
      },
      "outputs": [
        {
          "data": {
            "text/html": [
              "<div>\n",
              "<style scoped>\n",
              "    .dataframe tbody tr th:only-of-type {\n",
              "        vertical-align: middle;\n",
              "    }\n",
              "\n",
              "    .dataframe tbody tr th {\n",
              "        vertical-align: top;\n",
              "    }\n",
              "\n",
              "    .dataframe thead th {\n",
              "        text-align: right;\n",
              "    }\n",
              "</style>\n",
              "<table border=\"1\" class=\"dataframe\">\n",
              "  <thead>\n",
              "    <tr style=\"text-align: right;\">\n",
              "      <th></th>\n",
              "      <th>row_id</th>\n",
              "      <th>microbusiness_density</th>\n",
              "    </tr>\n",
              "  </thead>\n",
              "  <tbody>\n",
              "    <tr>\n",
              "      <th>0</th>\n",
              "      <td>1001_2022-11-01</td>\n",
              "      <td>3.453666</td>\n",
              "    </tr>\n",
              "    <tr>\n",
              "      <th>1</th>\n",
              "      <td>1003_2022-11-01</td>\n",
              "      <td>8.341685</td>\n",
              "    </tr>\n",
              "    <tr>\n",
              "      <th>2</th>\n",
              "      <td>1005_2022-11-01</td>\n",
              "      <td>1.221622</td>\n",
              "    </tr>\n",
              "    <tr>\n",
              "      <th>3</th>\n",
              "      <td>1007_2022-11-01</td>\n",
              "      <td>1.272295</td>\n",
              "    </tr>\n",
              "    <tr>\n",
              "      <th>4</th>\n",
              "      <td>1009_2022-11-01</td>\n",
              "      <td>1.837303</td>\n",
              "    </tr>\n",
              "  </tbody>\n",
              "</table>\n",
              "</div>"
            ],
            "text/plain": [
              "            row_id  microbusiness_density\n",
              "0  1001_2022-11-01               3.453666\n",
              "1  1003_2022-11-01               8.341685\n",
              "2  1005_2022-11-01               1.221622\n",
              "3  1007_2022-11-01               1.272295\n",
              "4  1009_2022-11-01               1.837303"
            ]
          },
          "execution_count": 203,
          "metadata": {},
          "output_type": "execute_result"
        }
      ],
      "source": [
        "submission = pd.DataFrame({'row_id': row_id, \n",
        "              'microbusiness_density': submission_preds})\n",
        "submission.head()"
      ]
    },
    {
      "cell_type": "code",
      "execution_count": 204,
      "metadata": {
        "id": "2A5dHlJ1sgPq"
      },
      "outputs": [],
      "source": [
        "submission.to_csv('data/first_basic_submission.csv', index=False)"
      ]
    },
    {
      "cell_type": "markdown",
      "metadata": {
        "id": "nLGPBtCwsgPr"
      },
      "source": [
        "# Future Steps\n",
        "\n",
        "* It is to be noted that Random Forest is doing quite well on the data\n",
        "* ❌ Separate the cfip ID for the state & the county into separate columns and see if that improves the model ❌\n",
        "* Need to combine census data and the training set\n",
        "* May want to use models like SARIMA and ARIMA or SVM which are good for forecast modeling\n",
        "* Above, we removed the `active` column from the training set but it helped the model a lot when we trained on it, so try to get that data for test set\n",
        "* Need to combine loads of data found <a href='https://www.godaddy.com/ventureforward/microbusiness-datahub/'>here</a> with training set\n",
        "* Need to do hypertuning after getting all the data together"
      ]
    }
  ],
  "metadata": {
    "colab": {
      "include_colab_link": true,
      "provenance": []
    },
    "kernelspec": {
      "display_name": "base",
      "language": "python",
      "name": "python3"
    },
    "language_info": {
      "codemirror_mode": {
        "name": "ipython",
        "version": 3
      },
      "file_extension": ".py",
      "mimetype": "text/x-python",
      "name": "python",
      "nbconvert_exporter": "python",
      "pygments_lexer": "ipython3",
      "version": "3.9.7"
    },
    "orig_nbformat": 4,
    "vscode": {
      "interpreter": {
        "hash": "425927320cfd38c1f4d04dab592055e2380257b6c8d6532762caec5aa72862cb"
      }
    }
  },
  "nbformat": 4,
  "nbformat_minor": 0
}
